{
 "cells": [
  {
   "cell_type": "code",
   "execution_count": 157,
   "metadata": {
    "collapsed": true
   },
   "outputs": [],
   "source": [
    "from surprise.prediction_algorithms.matrix_factorization import SVDpp\n",
    "from surprise import Dataset\n",
    "from surprise import evaluate, print_perf\n",
    "from surprise import GridSearch\n",
    "import pandas as pd\n",
    "from surprise import Reader\n",
    "from sklearn.metrics import precision_score, recall_score, roc_auc_score\n",
    "from multiprocessing import Pool\n",
    "from sklearn.externals import joblib\n",
    "import pickle\n",
    "import matplotlib.pyplot as plt"
   ]
  },
  {
   "cell_type": "code",
   "execution_count": 2,
   "metadata": {
    "collapsed": true
   },
   "outputs": [],
   "source": [
    "train_file = \"../datasets/ua.base\"\n",
    "test_file = \"../datasets/ua.test\""
   ]
  },
  {
   "cell_type": "code",
   "execution_count": 3,
   "metadata": {
    "collapsed": true
   },
   "outputs": [],
   "source": [
    "col_names = [ \"user\", \"movie\", \"rating\", \"timestamp\" ]"
   ]
  },
  {
   "cell_type": "code",
   "execution_count": 4,
   "metadata": {
    "collapsed": true
   },
   "outputs": [],
   "source": [
    "train = pd.read_csv(train_file, sep=\"\\t\", header=None, names=col_names)"
   ]
  },
  {
   "cell_type": "code",
   "execution_count": 5,
   "metadata": {
    "collapsed": true
   },
   "outputs": [],
   "source": [
    "test = pd.read_csv(test_file, sep=\"\\t\", header=None, names=col_names)"
   ]
  },
  {
   "cell_type": "code",
   "execution_count": 6,
   "metadata": {},
   "outputs": [
    {
     "data": {
      "text/html": [
       "<div>\n",
       "<style scoped>\n",
       "    .dataframe tbody tr th:only-of-type {\n",
       "        vertical-align: middle;\n",
       "    }\n",
       "\n",
       "    .dataframe tbody tr th {\n",
       "        vertical-align: top;\n",
       "    }\n",
       "\n",
       "    .dataframe thead th {\n",
       "        text-align: right;\n",
       "    }\n",
       "</style>\n",
       "<table border=\"1\" class=\"dataframe\">\n",
       "  <thead>\n",
       "    <tr style=\"text-align: right;\">\n",
       "      <th></th>\n",
       "      <th>user</th>\n",
       "      <th>movie</th>\n",
       "      <th>rating</th>\n",
       "      <th>timestamp</th>\n",
       "    </tr>\n",
       "  </thead>\n",
       "  <tbody>\n",
       "    <tr>\n",
       "      <th>0</th>\n",
       "      <td>1</td>\n",
       "      <td>1</td>\n",
       "      <td>5</td>\n",
       "      <td>874965758</td>\n",
       "    </tr>\n",
       "    <tr>\n",
       "      <th>1</th>\n",
       "      <td>1</td>\n",
       "      <td>2</td>\n",
       "      <td>3</td>\n",
       "      <td>876893171</td>\n",
       "    </tr>\n",
       "    <tr>\n",
       "      <th>2</th>\n",
       "      <td>1</td>\n",
       "      <td>3</td>\n",
       "      <td>4</td>\n",
       "      <td>878542960</td>\n",
       "    </tr>\n",
       "    <tr>\n",
       "      <th>3</th>\n",
       "      <td>1</td>\n",
       "      <td>4</td>\n",
       "      <td>3</td>\n",
       "      <td>876893119</td>\n",
       "    </tr>\n",
       "    <tr>\n",
       "      <th>4</th>\n",
       "      <td>1</td>\n",
       "      <td>5</td>\n",
       "      <td>3</td>\n",
       "      <td>889751712</td>\n",
       "    </tr>\n",
       "  </tbody>\n",
       "</table>\n",
       "</div>"
      ],
      "text/plain": [
       "   user  movie  rating  timestamp\n",
       "0     1      1       5  874965758\n",
       "1     1      2       3  876893171\n",
       "2     1      3       4  878542960\n",
       "3     1      4       3  876893119\n",
       "4     1      5       3  889751712"
      ]
     },
     "execution_count": 6,
     "metadata": {},
     "output_type": "execute_result"
    }
   ],
   "source": [
    "train[0:5]"
   ]
  },
  {
   "cell_type": "code",
   "execution_count": 8,
   "metadata": {
    "collapsed": true
   },
   "outputs": [],
   "source": [
    "train_dataset = Dataset.load_from_df(train[[\"user\", \"movie\", \"rating\"]], reader).build_full_trainset()"
   ]
  },
  {
   "cell_type": "code",
   "execution_count": 9,
   "metadata": {
    "collapsed": true
   },
   "outputs": [],
   "source": [
    "svdpp = SVDpp()"
   ]
  },
  {
   "cell_type": "code",
   "execution_count": 10,
   "metadata": {},
   "outputs": [
    {
     "data": {
      "text/plain": [
       "<surprise.prediction_algorithms.matrix_factorization.SVDpp at 0x7f64bc19c2b0>"
      ]
     },
     "execution_count": 10,
     "metadata": {},
     "output_type": "execute_result"
    }
   ],
   "source": [
    "svdpp.fit(train_dataset)"
   ]
  },
  {
   "cell_type": "code",
   "execution_count": 26,
   "metadata": {
    "collapsed": true
   },
   "outputs": [],
   "source": [
    "test[\"predictions\"] = test.apply(lambda row: svdpp.predict(row[0], row[1]), axis=1)    "
   ]
  },
  {
   "cell_type": "code",
   "execution_count": 47,
   "metadata": {
    "collapsed": true
   },
   "outputs": [],
   "source": [
    "test[\"predictions_prop\"] = test.apply( lambda row: row[4].est / 5 , axis=1 )"
   ]
  },
  {
   "cell_type": "code",
   "execution_count": 48,
   "metadata": {},
   "outputs": [
    {
     "data": {
      "text/html": [
       "<div>\n",
       "<style scoped>\n",
       "    .dataframe tbody tr th:only-of-type {\n",
       "        vertical-align: middle;\n",
       "    }\n",
       "\n",
       "    .dataframe tbody tr th {\n",
       "        vertical-align: top;\n",
       "    }\n",
       "\n",
       "    .dataframe thead th {\n",
       "        text-align: right;\n",
       "    }\n",
       "</style>\n",
       "<table border=\"1\" class=\"dataframe\">\n",
       "  <thead>\n",
       "    <tr style=\"text-align: right;\">\n",
       "      <th></th>\n",
       "      <th>user</th>\n",
       "      <th>movie</th>\n",
       "      <th>rating</th>\n",
       "      <th>timestamp</th>\n",
       "      <th>predictions</th>\n",
       "      <th>predictions_prop</th>\n",
       "    </tr>\n",
       "  </thead>\n",
       "  <tbody>\n",
       "    <tr>\n",
       "      <th>0</th>\n",
       "      <td>1</td>\n",
       "      <td>20</td>\n",
       "      <td>4</td>\n",
       "      <td>887431883</td>\n",
       "      <td>(1.0, 20.0, None, 3.6111639336156043, {'was_im...</td>\n",
       "      <td>0.722233</td>\n",
       "    </tr>\n",
       "    <tr>\n",
       "      <th>1</th>\n",
       "      <td>1</td>\n",
       "      <td>33</td>\n",
       "      <td>4</td>\n",
       "      <td>878542699</td>\n",
       "      <td>(1.0, 33.0, None, 3.29084608025631, {'was_impo...</td>\n",
       "      <td>0.658169</td>\n",
       "    </tr>\n",
       "    <tr>\n",
       "      <th>2</th>\n",
       "      <td>1</td>\n",
       "      <td>61</td>\n",
       "      <td>4</td>\n",
       "      <td>878542420</td>\n",
       "      <td>(1.0, 61.0, None, 4.016318579265638, {'was_imp...</td>\n",
       "      <td>0.803264</td>\n",
       "    </tr>\n",
       "    <tr>\n",
       "      <th>3</th>\n",
       "      <td>1</td>\n",
       "      <td>117</td>\n",
       "      <td>3</td>\n",
       "      <td>874965739</td>\n",
       "      <td>(1.0, 117.0, None, 4.012934507825617, {'was_im...</td>\n",
       "      <td>0.802587</td>\n",
       "    </tr>\n",
       "    <tr>\n",
       "      <th>4</th>\n",
       "      <td>1</td>\n",
       "      <td>155</td>\n",
       "      <td>2</td>\n",
       "      <td>878542201</td>\n",
       "      <td>(1.0, 155.0, None, 1.988308066493604, {'was_im...</td>\n",
       "      <td>0.397662</td>\n",
       "    </tr>\n",
       "  </tbody>\n",
       "</table>\n",
       "</div>"
      ],
      "text/plain": [
       "   user  movie  rating  timestamp  \\\n",
       "0     1     20       4  887431883   \n",
       "1     1     33       4  878542699   \n",
       "2     1     61       4  878542420   \n",
       "3     1    117       3  874965739   \n",
       "4     1    155       2  878542201   \n",
       "\n",
       "                                         predictions  predictions_prop  \n",
       "0  (1.0, 20.0, None, 3.6111639336156043, {'was_im...          0.722233  \n",
       "1  (1.0, 33.0, None, 3.29084608025631, {'was_impo...          0.658169  \n",
       "2  (1.0, 61.0, None, 4.016318579265638, {'was_imp...          0.803264  \n",
       "3  (1.0, 117.0, None, 4.012934507825617, {'was_im...          0.802587  \n",
       "4  (1.0, 155.0, None, 1.988308066493604, {'was_im...          0.397662  "
      ]
     },
     "execution_count": 48,
     "metadata": {},
     "output_type": "execute_result"
    }
   ],
   "source": [
    "test[0:5]"
   ]
  },
  {
   "cell_type": "code",
   "execution_count": 61,
   "metadata": {
    "collapsed": true
   },
   "outputs": [],
   "source": [
    "test[\"y_true\"] = test.apply( lambda row: round(row[2] / 5), axis=1)"
   ]
  },
  {
   "cell_type": "code",
   "execution_count": 62,
   "metadata": {
    "collapsed": true
   },
   "outputs": [],
   "source": [
    "test[\"y_score\"] = test[\"predictions_prop\"].apply(lambda i: round(i) )"
   ]
  },
  {
   "cell_type": "code",
   "execution_count": 59,
   "metadata": {},
   "outputs": [
    {
     "data": {
      "text/html": [
       "<div>\n",
       "<style scoped>\n",
       "    .dataframe tbody tr th:only-of-type {\n",
       "        vertical-align: middle;\n",
       "    }\n",
       "\n",
       "    .dataframe tbody tr th {\n",
       "        vertical-align: top;\n",
       "    }\n",
       "\n",
       "    .dataframe thead th {\n",
       "        text-align: right;\n",
       "    }\n",
       "</style>\n",
       "<table border=\"1\" class=\"dataframe\">\n",
       "  <thead>\n",
       "    <tr style=\"text-align: right;\">\n",
       "      <th></th>\n",
       "      <th>user</th>\n",
       "      <th>movie</th>\n",
       "      <th>rating</th>\n",
       "      <th>timestamp</th>\n",
       "      <th>predictions</th>\n",
       "      <th>predictions_prop</th>\n",
       "      <th>predictions_x</th>\n",
       "      <th>predictions_y</th>\n",
       "    </tr>\n",
       "  </thead>\n",
       "  <tbody>\n",
       "    <tr>\n",
       "      <th>0</th>\n",
       "      <td>1</td>\n",
       "      <td>20</td>\n",
       "      <td>4</td>\n",
       "      <td>887431883</td>\n",
       "      <td>(1.0, 20.0, None, 3.6111639336156043, {'was_im...</td>\n",
       "      <td>0.722233</td>\n",
       "      <td>1</td>\n",
       "      <td>1</td>\n",
       "    </tr>\n",
       "    <tr>\n",
       "      <th>1</th>\n",
       "      <td>1</td>\n",
       "      <td>33</td>\n",
       "      <td>4</td>\n",
       "      <td>878542699</td>\n",
       "      <td>(1.0, 33.0, None, 3.29084608025631, {'was_impo...</td>\n",
       "      <td>0.658169</td>\n",
       "      <td>1</td>\n",
       "      <td>1</td>\n",
       "    </tr>\n",
       "    <tr>\n",
       "      <th>2</th>\n",
       "      <td>1</td>\n",
       "      <td>61</td>\n",
       "      <td>4</td>\n",
       "      <td>878542420</td>\n",
       "      <td>(1.0, 61.0, None, 4.016318579265638, {'was_imp...</td>\n",
       "      <td>0.803264</td>\n",
       "      <td>1</td>\n",
       "      <td>1</td>\n",
       "    </tr>\n",
       "    <tr>\n",
       "      <th>3</th>\n",
       "      <td>1</td>\n",
       "      <td>117</td>\n",
       "      <td>3</td>\n",
       "      <td>874965739</td>\n",
       "      <td>(1.0, 117.0, None, 4.012934507825617, {'was_im...</td>\n",
       "      <td>0.802587</td>\n",
       "      <td>1</td>\n",
       "      <td>1</td>\n",
       "    </tr>\n",
       "    <tr>\n",
       "      <th>4</th>\n",
       "      <td>1</td>\n",
       "      <td>155</td>\n",
       "      <td>2</td>\n",
       "      <td>878542201</td>\n",
       "      <td>(1.0, 155.0, None, 1.988308066493604, {'was_im...</td>\n",
       "      <td>0.397662</td>\n",
       "      <td>0</td>\n",
       "      <td>0</td>\n",
       "    </tr>\n",
       "  </tbody>\n",
       "</table>\n",
       "</div>"
      ],
      "text/plain": [
       "   user  movie  rating  timestamp  \\\n",
       "0     1     20       4  887431883   \n",
       "1     1     33       4  878542699   \n",
       "2     1     61       4  878542420   \n",
       "3     1    117       3  874965739   \n",
       "4     1    155       2  878542201   \n",
       "\n",
       "                                         predictions  predictions_prop  \\\n",
       "0  (1.0, 20.0, None, 3.6111639336156043, {'was_im...          0.722233   \n",
       "1  (1.0, 33.0, None, 3.29084608025631, {'was_impo...          0.658169   \n",
       "2  (1.0, 61.0, None, 4.016318579265638, {'was_imp...          0.803264   \n",
       "3  (1.0, 117.0, None, 4.012934507825617, {'was_im...          0.802587   \n",
       "4  (1.0, 155.0, None, 1.988308066493604, {'was_im...          0.397662   \n",
       "\n",
       "   predictions_x  predictions_y  \n",
       "0              1              1  \n",
       "1              1              1  \n",
       "2              1              1  \n",
       "3              1              1  \n",
       "4              0              0  "
      ]
     },
     "execution_count": 59,
     "metadata": {},
     "output_type": "execute_result"
    }
   ],
   "source": [
    "test[0:5]"
   ]
  },
  {
   "cell_type": "code",
   "execution_count": 63,
   "metadata": {},
   "outputs": [
    {
     "data": {
      "text/plain": [
       "0.8634888665100146"
      ]
     },
     "execution_count": 63,
     "metadata": {},
     "output_type": "execute_result"
    }
   ],
   "source": [
    "precision_score(test[\"y_true\"], test[\"y_score\"])"
   ]
  },
  {
   "cell_type": "code",
   "execution_count": 64,
   "metadata": {},
   "outputs": [
    {
     "data": {
      "text/plain": [
       "0.9777017610540986"
      ]
     },
     "execution_count": 64,
     "metadata": {},
     "output_type": "execute_result"
    }
   ],
   "source": [
    "recall_score(test[\"y_true\"], test[\"y_score\"])"
   ]
  },
  {
   "cell_type": "code",
   "execution_count": 65,
   "metadata": {},
   "outputs": [
    {
     "data": {
      "text/plain": [
       "0.5919738473455268"
      ]
     },
     "execution_count": 65,
     "metadata": {},
     "output_type": "execute_result"
    }
   ],
   "source": [
    "roc_auc_score(test[\"y_true\"], test[\"y_score\"])"
   ]
  },
  {
   "cell_type": "markdown",
   "metadata": {},
   "source": [
    "# Compute hyperparameter matrix"
   ]
  },
  {
   "cell_type": "code",
   "execution_count": 80,
   "metadata": {
    "collapsed": true
   },
   "outputs": [],
   "source": [
    "n_factors = [ 10, 20 ]\n",
    "n_epochs = [ 20 , 30 ]\n",
    "lr_all = [ 0.001, 0.01, 0.1 ]"
   ]
  },
  {
   "cell_type": "code",
   "execution_count": 82,
   "metadata": {
    "collapsed": true
   },
   "outputs": [],
   "source": [
    "svpp_array = [ { \"n_factors\": n, \"n_epochs\": e, \"lr_all\": l } for n in n_factors for e in n_epochs for l in lr_all ]"
   ]
  },
  {
   "cell_type": "code",
   "execution_count": 95,
   "metadata": {
    "collapsed": true
   },
   "outputs": [],
   "source": [
    "def fit_model(opts):\n",
    "    return (opts, SVDpp(n_factors=opts[\"n_factors\"], n_epochs=opts[\"n_epochs\"], lr_all=opts[\"lr_all\"]).fit(train_dataset))"
   ]
  },
  {
   "cell_type": "code",
   "execution_count": 96,
   "metadata": {
    "collapsed": true
   },
   "outputs": [],
   "source": [
    "with Pool(6) as p:\n",
    "    svpp_models = p.map( fit_model, svpp_array )"
   ]
  },
  {
   "cell_type": "code",
   "execution_count": 97,
   "metadata": {},
   "outputs": [
    {
     "data": {
      "text/plain": [
       "[({'lr_all': 0.001, 'n_epochs': 20, 'n_factors': 10},\n",
       "  <surprise.prediction_algorithms.matrix_factorization.SVDpp at 0x7f647d5240b8>),\n",
       " ({'lr_all': 0.01, 'n_epochs': 20, 'n_factors': 10},\n",
       "  <surprise.prediction_algorithms.matrix_factorization.SVDpp at 0x7f647d522e48>),\n",
       " ({'lr_all': 0.1, 'n_epochs': 20, 'n_factors': 10},\n",
       "  <surprise.prediction_algorithms.matrix_factorization.SVDpp at 0x7f647e62a320>),\n",
       " ({'lr_all': 0.001, 'n_epochs': 30, 'n_factors': 10},\n",
       "  <surprise.prediction_algorithms.matrix_factorization.SVDpp at 0x7f648750a0f0>),\n",
       " ({'lr_all': 0.01, 'n_epochs': 30, 'n_factors': 10},\n",
       "  <surprise.prediction_algorithms.matrix_factorization.SVDpp at 0x7f647d522ef0>),\n",
       " ({'lr_all': 0.1, 'n_epochs': 30, 'n_factors': 10},\n",
       "  <surprise.prediction_algorithms.matrix_factorization.SVDpp at 0x7f647e0f65f8>),\n",
       " ({'lr_all': 0.001, 'n_epochs': 20, 'n_factors': 20},\n",
       "  <surprise.prediction_algorithms.matrix_factorization.SVDpp at 0x7f647d522da0>),\n",
       " ({'lr_all': 0.01, 'n_epochs': 20, 'n_factors': 20},\n",
       "  <surprise.prediction_algorithms.matrix_factorization.SVDpp at 0x7f64c1e02710>),\n",
       " ({'lr_all': 0.1, 'n_epochs': 20, 'n_factors': 20},\n",
       "  <surprise.prediction_algorithms.matrix_factorization.SVDpp at 0x7f647dc19cc0>),\n",
       " ({'lr_all': 0.001, 'n_epochs': 30, 'n_factors': 20},\n",
       "  <surprise.prediction_algorithms.matrix_factorization.SVDpp at 0x7f6487509e80>),\n",
       " ({'lr_all': 0.01, 'n_epochs': 30, 'n_factors': 20},\n",
       "  <surprise.prediction_algorithms.matrix_factorization.SVDpp at 0x7f64c21a08d0>),\n",
       " ({'lr_all': 0.1, 'n_epochs': 30, 'n_factors': 20},\n",
       "  <surprise.prediction_algorithms.matrix_factorization.SVDpp at 0x7f6486a96f98>)]"
      ]
     },
     "execution_count": 97,
     "metadata": {},
     "output_type": "execute_result"
    }
   ],
   "source": [
    "svpp_models"
   ]
  },
  {
   "cell_type": "code",
   "execution_count": 103,
   "metadata": {
    "collapsed": true
   },
   "outputs": [],
   "source": [
    "svpp_models_byte = pickle.dumps(svpp_models)"
   ]
  },
  {
   "cell_type": "code",
   "execution_count": 104,
   "metadata": {},
   "outputs": [
    {
     "data": {
      "text/plain": [
       "['svpp_models_hyp.pkl']"
      ]
     },
     "execution_count": 104,
     "metadata": {},
     "output_type": "execute_result"
    }
   ],
   "source": [
    "joblib.dump(svpp_models_byte, 'svpp_models_hyp.pkl')"
   ]
  },
  {
   "cell_type": "code",
   "execution_count": 151,
   "metadata": {
    "collapsed": true
   },
   "outputs": [],
   "source": [
    "def compute_scores(model, test):\n",
    "    test_copy = test.copy(deep=True)\n",
    "    test_copy[\"predictions\"] = test_copy[[\"user\", \"movie\"]].apply(lambda r: model.predict(r[0], r[1]), axis=1)   \n",
    "    test_copy[\"predictions_prop\"] = test_copy[\"predictions\"].apply( lambda p: p.est / 5 )\n",
    "    test_copy[\"y_true\"] = test_copy[\"rating\"].apply( lambda r: round(r / 5))\n",
    "    test_copy[\"y_score\"] = test_copy[\"predictions_prop\"].apply(lambda p: round(p) )\n",
    "    return {\n",
    "        \"precision\": precision_score(test_copy[\"y_true\"], test_copy[\"y_score\"]),\n",
    "        \"recall\": recall_score(test_copy[\"y_true\"], test_copy[\"y_score\"]),\n",
    "        \"auc\": roc_auc_score(test_copy[\"y_true\"], test_copy[\"y_score\"])\n",
    "    }"
   ]
  },
  {
   "cell_type": "code",
   "execution_count": 152,
   "metadata": {
    "collapsed": true
   },
   "outputs": [],
   "source": [
    "test2 = test[[\"user\", \"movie\", \"rating\"]]"
   ]
  },
  {
   "cell_type": "code",
   "execution_count": 154,
   "metadata": {
    "collapsed": true
   },
   "outputs": [],
   "source": [
    "scores = list(map(lambda x: compute_scores(x[1], test2), svpp_models))"
   ]
  },
  {
   "cell_type": "code",
   "execution_count": 164,
   "metadata": {},
   "outputs": [
    {
     "data": {
      "image/png": "[encoded data removed]",
      "text/plain": [
       "<matplotlib.figure.Figure at 0x7f645b0070f0>"
      ]
     },
     "metadata": {},
     "output_type": "display_data"
    }
   ],
   "source": [
    "plt.plot( [ s[\"precision\"] for s in scores ])\n",
    "plt.ylabel(\" Precision scores\" )\n",
    "plt.show()"
   ]
  },
  {
   "cell_type": "code",
   "execution_count": 165,
   "metadata": {},
   "outputs": [
    {
     "data": {
      "image/png": "[encoded data removed]",
      "text/plain": [
       "<matplotlib.figure.Figure at 0x7f645af0e748>"
      ]
     },
     "metadata": {},
     "output_type": "display_data"
    }
   ],
   "source": [
    "plt.plot( [ s[\"recall\"] for s in scores ])\n",
    "plt.ylabel(\"Recall scores\")\n",
    "plt.show()"
   ]
  },
  {
   "cell_type": "code",
   "execution_count": 166,
   "metadata": {},
   "outputs": [
    {
     "data": {
      "image/png": "[encoded data removed]",
      "text/plain": [
       "<matplotlib.figure.Figure at 0x7f645af39f60>"
      ]
     },
     "metadata": {},
     "output_type": "display_data"
    }
   ],
   "source": [
    "plt.plot( [ s[\"auc\"] for s in scores ])\n",
    "plt.ylabel(\"AUC Scores\")\n",
    "plt.show()"
   ]
  },
  {
   "cell_type": "code",
   "execution_count": null,
   "metadata": {
    "collapsed": true
   },
   "outputs": [],
   "source": []
  }
 ],
 "metadata": {
  "kernelspec": {
   "display_name": "Python 3",
   "language": "python",
   "name": "python3"
  },
  "language_info": {
   "codemirror_mode": {
    "name": "ipython",
    "version": 3
   },
   "file_extension": ".py",
   "mimetype": "text/x-python",
   "name": "python",
   "nbconvert_exporter": "python",
   "pygments_lexer": "ipython3",
   "version": "3.6.3"
  }
 },
 "nbformat": 4,
 "nbformat_minor": 2
}
