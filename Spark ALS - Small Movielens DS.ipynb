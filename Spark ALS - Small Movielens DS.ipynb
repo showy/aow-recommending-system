{
 "cells": [
  {
   "cell_type": "code",
   "execution_count": 1,
   "metadata": {
    "collapsed": true
   },
   "outputs": [],
   "source": [
    "import org.apache.spark.sql.functions.{min, max}\n",
    "import org.apache.spark.ml.recommendation.{ALS, ALSModel}\n",
    "import scala.util.Random\n",
    "import org.apache.spark.sql.functions.lit"
   ]
  },
  {
   "cell_type": "code",
   "execution_count": 2,
   "metadata": {},
   "outputs": [
    {
     "data": {
      "text/plain": [
       "moviesFile = ../datasets/movielens/ml-latest-small/movies.csv\n",
       "ratingsFile = ../datasets/movielens/ml-latest-small/ratings.csv\n",
       "tagsFile = ../datasets/movielens/ml-latest-small/tags.csv\n"
      ]
     },
     "metadata": {},
     "output_type": "display_data"
    },
    {
     "data": {
      "text/plain": [
       "../datasets/movielens/ml-latest-small/tags.csv"
      ]
     },
     "execution_count": 2,
     "metadata": {},
     "output_type": "execute_result"
    }
   ],
   "source": [
    "val moviesFile = \"../datasets/movielens/ml-latest-small/movies.csv\"\n",
    "val ratingsFile = \"../datasets/movielens/ml-latest-small/ratings.csv\"\n",
    "val tagsFile = \"../datasets/movielens/ml-latest-small/tags.csv\""
   ]
  },
  {
   "cell_type": "code",
   "execution_count": 3,
   "metadata": {},
   "outputs": [
    {
     "data": {
      "text/plain": [
       "moviesDF = [movieId: int, title: string ... 1 more field]\n",
       "ratingsDF = [userId: int, movieId: int ... 2 more fields]\n",
       "tagsDF = [userId: int, movieId: int ... 2 more fields]\n"
      ]
     },
     "metadata": {},
     "output_type": "display_data"
    },
    {
     "data": {
      "text/plain": [
       "[userId: int, movieId: int ... 2 more fields]"
      ]
     },
     "execution_count": 3,
     "metadata": {},
     "output_type": "execute_result"
    }
   ],
   "source": [
    "val moviesDF = spark.read.options(Map(\"header\" -> \"true\", \"inferSchema\" -> \"true\")).csv(moviesFile).cache\n",
    "val ratingsDF = spark.read.options(Map(\"header\" -> \"true\", \"inferSchema\" -> \"true\")).csv(ratingsFile).cache\n",
    "val tagsDF = spark.read.options(Map(\"header\" -> \"true\", \"inferSchema\" -> \"true\")).csv(tagsFile).cache"
   ]
  },
  {
   "cell_type": "code",
   "execution_count": 4,
   "metadata": {},
   "outputs": [
    {
     "name": "stdout",
     "output_type": "stream",
     "text": [
      "+-------+--------------------+--------------------+\n",
      "|movieId|               title|              genres|\n",
      "+-------+--------------------+--------------------+\n",
      "|      1|    Toy Story (1995)|Adventure|Animati...|\n",
      "|      2|      Jumanji (1995)|Adventure|Childre...|\n",
      "|      3|Grumpier Old Men ...|      Comedy|Romance|\n",
      "|      4|Waiting to Exhale...|Comedy|Drama|Romance|\n",
      "|      5|Father of the Bri...|              Comedy|\n",
      "|      6|         Heat (1995)|Action|Crime|Thri...|\n",
      "|      7|      Sabrina (1995)|      Comedy|Romance|\n",
      "|      8| Tom and Huck (1995)|  Adventure|Children|\n",
      "|      9| Sudden Death (1995)|              Action|\n",
      "|     10|    GoldenEye (1995)|Action|Adventure|...|\n",
      "|     11|American Presiden...|Comedy|Drama|Romance|\n",
      "|     12|Dracula: Dead and...|       Comedy|Horror|\n",
      "|     13|        Balto (1995)|Adventure|Animati...|\n",
      "|     14|        Nixon (1995)|               Drama|\n",
      "|     15|Cutthroat Island ...|Action|Adventure|...|\n",
      "|     16|       Casino (1995)|         Crime|Drama|\n",
      "|     17|Sense and Sensibi...|       Drama|Romance|\n",
      "|     18|   Four Rooms (1995)|              Comedy|\n",
      "|     19|Ace Ventura: When...|              Comedy|\n",
      "|     20|  Money Train (1995)|Action|Comedy|Cri...|\n",
      "+-------+--------------------+--------------------+\n",
      "only showing top 20 rows\n",
      "\n"
     ]
    }
   ],
   "source": [
    "moviesDF.show"
   ]
  },
  {
   "cell_type": "code",
   "execution_count": 5,
   "metadata": {},
   "outputs": [
    {
     "name": "stdout",
     "output_type": "stream",
     "text": [
      "+------+-------+------+----------+\n",
      "|userId|movieId|rating| timestamp|\n",
      "+------+-------+------+----------+\n",
      "|     1|     31|   2.5|1260759144|\n",
      "|     1|   1029|   3.0|1260759179|\n",
      "|     1|   1061|   3.0|1260759182|\n",
      "|     1|   1129|   2.0|1260759185|\n",
      "|     1|   1172|   4.0|1260759205|\n",
      "|     1|   1263|   2.0|1260759151|\n",
      "|     1|   1287|   2.0|1260759187|\n",
      "|     1|   1293|   2.0|1260759148|\n",
      "|     1|   1339|   3.5|1260759125|\n",
      "|     1|   1343|   2.0|1260759131|\n",
      "|     1|   1371|   2.5|1260759135|\n",
      "|     1|   1405|   1.0|1260759203|\n",
      "|     1|   1953|   4.0|1260759191|\n",
      "|     1|   2105|   4.0|1260759139|\n",
      "|     1|   2150|   3.0|1260759194|\n",
      "|     1|   2193|   2.0|1260759198|\n",
      "|     1|   2294|   2.0|1260759108|\n",
      "|     1|   2455|   2.5|1260759113|\n",
      "|     1|   2968|   1.0|1260759200|\n",
      "|     1|   3671|   3.0|1260759117|\n",
      "+------+-------+------+----------+\n",
      "only showing top 20 rows\n",
      "\n"
     ]
    }
   ],
   "source": [
    "ratingsDF.show"
   ]
  },
  {
   "cell_type": "code",
   "execution_count": 6,
   "metadata": {},
   "outputs": [
    {
     "name": "stdout",
     "output_type": "stream",
     "text": [
      "+------+-------+--------------------+----------+\n",
      "|userId|movieId|                 tag| timestamp|\n",
      "+------+-------+--------------------+----------+\n",
      "|    15|    339|sandra 'boring' b...|1138537770|\n",
      "|    15|   1955|             dentist|1193435061|\n",
      "|    15|   7478|            Cambodia|1170560997|\n",
      "|    15|  32892|             Russian|1170626366|\n",
      "|    15|  34162|         forgettable|1141391765|\n",
      "|    15|  35957|               short|1141391873|\n",
      "|    15|  37729|          dull story|1141391806|\n",
      "|    15|  45950|          powerpoint|1169616291|\n",
      "|    15| 100365|            activist|1425876220|\n",
      "|    15| 100365|         documentary|1425876220|\n",
      "|    15| 100365|              uganda|1425876220|\n",
      "|    23|    150|          Ron Howard|1148672905|\n",
      "|    68|   2174|               music|1249808064|\n",
      "|    68|   2174|               weird|1249808102|\n",
      "|    68|   8623|        Steve Martin|1249808497|\n",
      "|    73| 107999|              action|1430799184|\n",
      "|    73| 107999|               anime|1430799184|\n",
      "|    73| 107999|             kung fu|1430799184|\n",
      "|    73| 111624|               drama|1431584497|\n",
      "|    73| 111624|               indie|1431584497|\n",
      "+------+-------+--------------------+----------+\n",
      "only showing top 20 rows\n",
      "\n"
     ]
    }
   ],
   "source": [
    "tagsDF.show"
   ]
  },
  {
   "cell_type": "code",
   "execution_count": 7,
   "metadata": {},
   "outputs": [
    {
     "name": "stdout",
     "output_type": "stream",
     "text": [
      "+-----------+-----------+------------+------------+-----------+-----------+\n",
      "|min(userId)|max(userId)|min(movieId)|max(movieId)|min(rating)|max(rating)|\n",
      "+-----------+-----------+------------+------------+-----------+-----------+\n",
      "|          1|        671|           1|      163949|        0.5|        5.0|\n",
      "+-----------+-----------+------------+------------+-----------+-----------+\n",
      "\n"
     ]
    }
   ],
   "source": [
    "ratingsDF.agg(min(\"userId\"), max(\"userId\"), min(\"movieId\"), max(\"movieId\"), min(\"rating\"), max(\"rating\")).show"
   ]
  },
  {
   "cell_type": "code",
   "execution_count": 8,
   "metadata": {},
   "outputs": [
    {
     "name": "stdout",
     "output_type": "stream",
     "text": [
      "+-------+------------------+------------------+------------------+--------------------+\n",
      "|summary|            userId|           movieId|            rating|           timestamp|\n",
      "+-------+------------------+------------------+------------------+--------------------+\n",
      "|  count|            100004|            100004|            100004|              100004|\n",
      "|   mean| 347.0113095476181|12548.664363425463| 3.543608255669773|1.1296390869392424E9|\n",
      "| stddev|195.16383797819535|26369.198968815268|1.0580641091070326|1.9168582602710962E8|\n",
      "|    min|                 1|                 1|               0.5|           789652009|\n",
      "|    max|               671|            163949|               5.0|          1476640644|\n",
      "+-------+------------------+------------------+------------------+--------------------+\n",
      "\n"
     ]
    }
   ],
   "source": [
    "ratingsDF.describe().show"
   ]
  },
  {
   "cell_type": "code",
   "execution_count": 9,
   "metadata": {},
   "outputs": [
    {
     "name": "stdout",
     "output_type": "stream",
     "text": [
      "+------+-------+------+----------+\n",
      "|userId|movieId|rating| timestamp|\n",
      "+------+-------+------+----------+\n",
      "|     1|     31|   2.5|1260759144|\n",
      "|     1|   1029|   3.0|1260759179|\n",
      "|     1|   1061|   3.0|1260759182|\n",
      "|     1|   1129|   2.0|1260759185|\n",
      "|     1|   1172|   4.0|1260759205|\n",
      "|     1|   1263|   2.0|1260759151|\n",
      "|     1|   1287|   2.0|1260759187|\n",
      "|     1|   1293|   2.0|1260759148|\n",
      "|     1|   1339|   3.5|1260759125|\n",
      "|     1|   1343|   2.0|1260759131|\n",
      "|     1|   1371|   2.5|1260759135|\n",
      "|     1|   1405|   1.0|1260759203|\n",
      "|     1|   1953|   4.0|1260759191|\n",
      "|     1|   2105|   4.0|1260759139|\n",
      "|     1|   2150|   3.0|1260759194|\n",
      "|     1|   2193|   2.0|1260759198|\n",
      "|     1|   2294|   2.0|1260759108|\n",
      "|     1|   2455|   2.5|1260759113|\n",
      "|     1|   2968|   1.0|1260759200|\n",
      "|     1|   3671|   3.0|1260759117|\n",
      "+------+-------+------+----------+\n",
      "only showing top 20 rows\n",
      "\n"
     ]
    }
   ],
   "source": [
    "ratingsDF.orderBy(\"userId\", \"movieId\").show"
   ]
  },
  {
   "cell_type": "markdown",
   "metadata": {},
   "source": [
    "#### We are checking if they are duplicates in dataset"
   ]
  },
  {
   "cell_type": "code",
   "execution_count": 10,
   "metadata": {},
   "outputs": [
    {
     "name": "stdout",
     "output_type": "stream",
     "text": [
      "[Stage 15:=================================================>    (184 + 1) / 200]"
     ]
    },
    {
     "data": {
      "text/plain": [
       "distinctRatingsCount = 100004\n",
       "raitingsCount = 100004\n"
      ]
     },
     "metadata": {},
     "output_type": "display_data"
    },
    {
     "data": {
      "text/plain": [
       "100004"
      ]
     },
     "execution_count": 10,
     "metadata": {},
     "output_type": "execute_result"
    }
   ],
   "source": [
    "val distinctRatingsCount = ratingsDF.select(\"userId\", \"movieId\").distinct.count\n",
    "val raitingsCount = ratingsDF.count"
   ]
  },
  {
   "cell_type": "code",
   "execution_count": 11,
   "metadata": {},
   "outputs": [
    {
     "data": {
      "text/plain": [
       "trainData = [userId: int, movieId: int ... 2 more fields]\n",
       "testData = [userId: int, movieId: int ... 2 more fields]\n"
      ]
     },
     "metadata": {},
     "output_type": "display_data"
    },
    {
     "data": {
      "text/plain": [
       "[userId: int, movieId: int ... 2 more fields]"
      ]
     },
     "execution_count": 11,
     "metadata": {},
     "output_type": "execute_result"
    }
   ],
   "source": [
    "val Array(trainData, testData) = ratingsDF.randomSplit(Array(0.8, 0.2))"
   ]
  },
  {
   "cell_type": "code",
   "execution_count": 12,
   "metadata": {},
   "outputs": [
    {
     "data": {
      "text/plain": [
       "trainDataCount = 79793\n",
       "testDataCount = 20211\n"
      ]
     },
     "metadata": {},
     "output_type": "display_data"
    },
    {
     "data": {
      "text/plain": [
       "20211"
      ]
     },
     "execution_count": 12,
     "metadata": {},
     "output_type": "execute_result"
    }
   ],
   "source": [
    "val trainDataCount = trainData.count()\n",
    "val testDataCount = testData.count()"
   ]
  },
  {
   "cell_type": "code",
   "execution_count": 13,
   "metadata": {},
   "outputs": [
    {
     "name": "stdout",
     "output_type": "stream",
     "text": [
      "[Stage 78:===================================================>     (9 + 1) / 10]"
     ]
    },
    {
     "data": {
      "text/plain": [
       "iter = 10\n",
       "rank = 20\n",
       "model = als_cb78a65d56fe\n"
      ]
     },
     "metadata": {},
     "output_type": "display_data"
    },
    {
     "data": {
      "text/plain": [
       "als_cb78a65d56fe"
      ]
     },
     "execution_count": 13,
     "metadata": {},
     "output_type": "execute_result"
    }
   ],
   "source": [
    "val iter = 10\n",
    "val rank = 20\n",
    "val model = new ALS()\n",
    "    .setMaxIter(iter)\n",
    "    .setRank(rank)\n",
    "    .setUserCol(\"userId\")\n",
    "    .setItemCol(\"movieId\")\n",
    "    .setRatingCol(\"rating\")\n",
    "    .setPredictionCol(\"prediction\")\n",
    "    .setImplicitPrefs(false)\n",
    "    .fit(trainData)\n"
   ]
  },
  {
   "cell_type": "code",
   "execution_count": 14,
   "metadata": {},
   "outputs": [
    {
     "data": {
      "text/plain": [
       "als_cb78a65d56fe"
      ]
     },
     "execution_count": 14,
     "metadata": {},
     "output_type": "execute_result"
    }
   ],
   "source": [
    "model.setColdStartStrategy(\"drop\")"
   ]
  },
  {
   "cell_type": "code",
   "execution_count": 15,
   "metadata": {},
   "outputs": [
    {
     "name": "stdout",
     "output_type": "stream",
     "text": [
      "+---+---------------------------------------------------------------------------------------------------------------------------------------------------------------------------------------------------------------------------------------------------+\n",
      "|id |features                                                                                                                                                                                                                                           |\n",
      "+---+---------------------------------------------------------------------------------------------------------------------------------------------------------------------------------------------------------------------------------------------------+\n",
      "|10 |[0.5586043, 0.09885755, -0.02311161, -0.3573222, 0.1855725, 0.32043546, 0.43681934, -0.06108938, 0.579188, 0.11571113, 0.014435331, 0.07001802, -0.087862454, -0.22608283, -0.5763294, 0.24011777, -0.012586443, 1.3518986, -0.61920166, -0.415645]|\n",
      "+---+---------------------------------------------------------------------------------------------------------------------------------------------------------------------------------------------------------------------------------------------------+\n",
      "only showing top 1 row\n",
      "\n"
     ]
    }
   ],
   "source": [
    "model.itemFactors.show(1,false)"
   ]
  },
  {
   "cell_type": "code",
   "execution_count": 16,
   "metadata": {},
   "outputs": [
    {
     "name": "stdout",
     "output_type": "stream",
     "text": [
      "+---+----------------------------------------------------------------------------------------------------------------------------------------------------------------------------------------------------------------------------------------------------------+\n",
      "|id |features                                                                                                                                                                                                                                                  |\n",
      "+---+----------------------------------------------------------------------------------------------------------------------------------------------------------------------------------------------------------------------------------------------------------+\n",
      "|10 |[-0.057957187, 0.5419405, -0.098569565, -0.6136434, -0.23198462, -0.1009309, 0.49403003, 0.46374685, 1.0818579, -0.18961632, 0.24970357, 0.19307777, 0.0025974158, 0.008423488, -0.46112567, 0.46938542, 0.38866627, 1.1331686, -0.006762206, -0.15552635]|\n",
      "+---+----------------------------------------------------------------------------------------------------------------------------------------------------------------------------------------------------------------------------------------------------------+\n",
      "only showing top 1 row\n",
      "\n"
     ]
    }
   ],
   "source": [
    "model.userFactors.show(1, false)"
   ]
  },
  {
   "cell_type": "code",
   "execution_count": 17,
   "metadata": {},
   "outputs": [
    {
     "name": "stdout",
     "output_type": "stream",
     "text": [
      "[Stage 155:====================================================>(199 + 1) / 200]+------+-------+------+----------+----------+\n",
      "|userId|movieId|rating| timestamp|prediction|\n",
      "+------+-------+------+----------+----------+\n",
      "|   575|    148|   4.0|1012605106| 3.9289086|\n",
      "|   232|    463|   4.0| 955089443| 3.8387904|\n",
      "|   452|    463|   2.0| 976424451|  2.283914|\n",
      "|   534|    463|   4.0| 973377486| 3.8558333|\n",
      "|    30|    463|   4.0| 945277405| 3.7677555|\n",
      "|   311|    463|   3.0| 898008246| 2.9460309|\n",
      "|    85|    471|   3.0| 837512312| 3.1591654|\n",
      "|   588|    471|   3.0| 842298526| 3.4054499|\n",
      "|   126|    471|   5.0| 833287141| 3.9959264|\n",
      "|   460|    471|   5.0|1072836030|  4.097976|\n",
      "|   350|    471|   3.0|1011714986| 3.4426746|\n",
      "|   548|    471|   4.0| 857407799|  3.737401|\n",
      "|   602|    471|   3.0| 842357922| 3.7639365|\n",
      "|   285|    471|   5.0| 965092130| 4.0636725|\n",
      "|   440|    471|   3.0| 835337519| 3.0277364|\n",
      "|    86|    471|   4.0| 848161161| 3.9639633|\n",
      "|   292|    471|   3.5|1140049920|  3.766833|\n",
      "|   491|    471|   3.0| 940797129| 3.6204145|\n",
      "|   452|    471|   3.0| 976422396| 3.3982224|\n",
      "|    19|    471|   3.0| 855192558|  3.659511|\n",
      "+------+-------+------+----------+----------+\n",
      "only showing top 20 rows\n",
      "\n"
     ]
    },
    {
     "data": {
      "text/plain": [
       "trainPredictions = [userId: int, movieId: int ... 3 more fields]\n"
      ]
     },
     "metadata": {},
     "output_type": "display_data"
    },
    {
     "data": {
      "text/plain": [
       "[userId: int, movieId: int ... 3 more fields]"
      ]
     },
     "execution_count": 17,
     "metadata": {},
     "output_type": "execute_result"
    }
   ],
   "source": [
    "val trainPredictions = model.transform(trainData)\n",
    "trainPredictions.show"
   ]
  },
  {
   "cell_type": "code",
   "execution_count": 18,
   "metadata": {},
   "outputs": [
    {
     "name": "stdout",
     "output_type": "stream",
     "text": [
      "+------+-------+------+----------+----------+                                   \n",
      "|userId|movieId|rating| timestamp|prediction|\n",
      "+------+-------+------+----------+----------+\n",
      "|   380|    463|   3.0| 968949106| 3.0444913|\n",
      "|   242|    463|   4.0| 956685706| 3.6699631|\n",
      "|   274|    471|   5.0|1074104142| 3.5783854|\n",
      "|   306|    471|   3.0| 939718996| 3.4816675|\n",
      "|    15|    471|   3.0|1166586067| 3.0733998|\n",
      "|   358|    471|   5.0| 957479605| 3.8131983|\n",
      "|   105|    471|   4.0|1085574088| 3.6024966|\n",
      "|   508|    471|   4.0| 844377075| 4.0544753|\n",
      "|   242|    471|   5.0| 956686752| 4.1915364|\n",
      "|   468|    471|   4.0|1296197444| 3.2125635|\n",
      "|   497|    496|   2.0| 939767844| 2.6722193|\n",
      "|   294|    833|   2.0|1047074195| 2.4390643|\n",
      "|   500|   1088|   4.0|1229098924|  3.532017|\n",
      "|   306|   1088|   4.0| 939760516|  3.356336|\n",
      "|    54|   1088|   5.0|1352836913| 3.5020564|\n",
      "|   262|   1088|   2.0|1433938031| 1.6893109|\n",
      "|   461|   1088|   3.0|1090908700| 2.5360682|\n",
      "|   387|   1088|   4.0| 974790964| 3.4329736|\n",
      "|    97|   1088|   2.0|1460342716| 1.4857234|\n",
      "|   621|   1088|   3.5|1116476035| 2.8278542|\n",
      "+------+-------+------+----------+----------+\n",
      "only showing top 20 rows\n",
      "\n"
     ]
    },
    {
     "data": {
      "text/plain": [
       "testPredictions = [userId: int, movieId: int ... 3 more fields]\n"
      ]
     },
     "metadata": {},
     "output_type": "display_data"
    },
    {
     "data": {
      "text/plain": [
       "[userId: int, movieId: int ... 3 more fields]"
      ]
     },
     "execution_count": 18,
     "metadata": {},
     "output_type": "execute_result"
    }
   ],
   "source": [
    "val testPredictions = model.transform(testData)\n",
    "testPredictions.show"
   ]
  },
  {
   "cell_type": "code",
   "execution_count": 19,
   "metadata": {},
   "outputs": [
    {
     "data": {
      "text/plain": [
       "topUserRecommendations = [userId: int, recommendations: array<struct<movieId:int,rating:float>>]\n"
      ]
     },
     "metadata": {},
     "output_type": "display_data"
    },
    {
     "data": {
      "text/plain": [
       "[userId: int, recommendations: array<struct<movieId:int,rating:float>>]"
      ]
     },
     "execution_count": 19,
     "metadata": {},
     "output_type": "execute_result"
    }
   ],
   "source": [
    "val topUserRecommendations = model.recommendForAllUsers(1).cache"
   ]
  },
  {
   "cell_type": "code",
   "execution_count": 20,
   "metadata": {},
   "outputs": [
    {
     "name": "stdout",
     "output_type": "stream",
     "text": [
      "[Stage 211:====================================================>(198 + 1) / 200]+------+--------------------+\n",
      "|userId|     recommendations|\n",
      "+------+--------------------+\n",
      "|     1| [[121231,3.897037]]|\n",
      "|     2| [[42418,4.6106668]]|\n",
      "|     3| [[83411,4.5362306]]|\n",
      "|     4| [[83411,6.1761436]]|\n",
      "|     5|  [[8535,4.9775677]]|\n",
      "|     6| [[83411,4.8929133]]|\n",
      "|     7| [[83411,4.9272227]]|\n",
      "|     8|  [[2563,4.8035126]]|\n",
      "|     9| [[83411,4.9356546]]|\n",
      "|    10| [[83411,5.1373577]]|\n",
      "|    11| [[134130,5.308274]]|\n",
      "|    12|  [[3879,4.9072647]]|\n",
      "|    13|[[134130,4.4896884]]|\n",
      "|    14|  [[83411,4.869408]]|\n",
      "|    15|   [[4302,4.902035]]|\n",
      "|    16|  [[1243,5.2748623]]|\n",
      "|    17| [[83411,5.5341454]]|\n",
      "|    18|  [[83411,4.750681]]|\n",
      "|    19| [[83411,5.3707647]]|\n",
      "|    20|  [[51471,4.913587]]|\n",
      "+------+--------------------+\n",
      "only showing top 20 rows\n",
      "\n"
     ]
    }
   ],
   "source": [
    "topUserRecommendations.orderBy($\"userId\").show"
   ]
  },
  {
   "cell_type": "code",
   "execution_count": 21,
   "metadata": {},
   "outputs": [
    {
     "data": {
      "text/plain": [
       "defined class ALSEnhanced\n",
       "recommendations = [movieId: int, userId: int ... 1 more field]\n"
      ]
     },
     "metadata": {},
     "output_type": "display_data"
    },
    {
     "data": {
      "text/plain": [
       "warning: there was one feature warning; re-run with -feature for details\n",
       "impALStoALSEnhanced: (model: org.apache.spark.ml.recommendation.ALSModel)ALSEnhanced\n"
      ]
     },
     "metadata": {},
     "output_type": "display_data"
    },
    {
     "data": {
      "text/plain": [
       "[movieId: int, userId: int ... 1 more field]"
      ]
     },
     "execution_count": 21,
     "metadata": {},
     "output_type": "execute_result"
    }
   ],
   "source": [
    "import org.apache.spark.ml.recommendation.ALSModel\n",
    "\n",
    "case class ALSEnhanced(model: ALSModel) {\n",
    "    val _spark = spark\n",
    "    import _spark.implicits._\n",
    "    import org.apache.spark.sql.functions.lit\n",
    "    import org.apache.spark.sql.functions.desc\n",
    "    \n",
    "    def recommendForUser(userId: Int) = { \n",
    "        model.transform(model.itemFactors.select($\"id\".as(\"movieId\"))\n",
    "            .withColumn(\"userId\", lit(userId)))\n",
    "            .orderBy(desc(\"prediction\"))\n",
    "    }\n",
    "}\n",
    "\n",
    "implicit def impALStoALSEnhanced(model: ALSModel) = ALSEnhanced(model)\n",
    "\n",
    "val recommendations = model.recommendForUser(1)"
   ]
  },
  {
   "cell_type": "code",
   "execution_count": 22,
   "metadata": {},
   "outputs": [
    {
     "name": "stdout",
     "output_type": "stream",
     "text": [
      "+-------+------+----------+                                                     \n",
      "|movieId|userId|prediction|\n",
      "+-------+------+----------+\n",
      "| 121231|     1|  3.897037|\n",
      "|  67504|     1| 3.7174983|\n",
      "|  83359|     1| 3.7174983|\n",
      "|  83411|     1| 3.7174983|\n",
      "|  83318|     1| 3.7174983|\n",
      "|   1243|     1| 3.6679907|\n",
      "|   4755|     1| 3.6321802|\n",
      "|   1264|     1| 3.6145625|\n",
      "|   2105|     1|  3.470392|\n",
      "|   3260|     1|  3.467227|\n",
      "|   5017|     1| 3.4540367|\n",
      "|    955|     1|   3.44335|\n",
      "|   1734|     1| 3.4340425|\n",
      "|  86377|     1|  3.423299|\n",
      "|   3083|     1| 3.4232152|\n",
      "|   8264|     1| 3.4165528|\n",
      "|  27846|     1| 3.4085884|\n",
      "| 106920|     1|  3.403481|\n",
      "|  31435|     1|  3.397064|\n",
      "|   3019|     1| 3.3945513|\n",
      "+-------+------+----------+\n",
      "only showing top 20 rows\n",
      "\n"
     ]
    }
   ],
   "source": [
    "recommendations.show"
   ]
  },
  {
   "cell_type": "code",
   "execution_count": 23,
   "metadata": {},
   "outputs": [
    {
     "name": "stdout",
     "output_type": "stream",
     "text": [
      "+-------+------+----------+--------------------+--------------------+           \n",
      "|movieId|userId|prediction|               title|              genres|\n",
      "+-------+------+----------+--------------------+--------------------+\n",
      "| 121231|     1|  3.897037|   It Follows (2014)|              Horror|\n",
      "|  83318|     1| 3.7174983|    Goat, The (1921)|              Comedy|\n",
      "|  83411|     1| 3.7174983|         Cops (1922)|              Comedy|\n",
      "|  83359|     1| 3.7174983|Play House, The (...|              Comedy|\n",
      "|  67504|     1| 3.7174983|Land of Silence a...|         Documentary|\n",
      "|   1243|     1| 3.6679907|Rosencrantz and G...|        Comedy|Drama|\n",
      "|   4755|     1| 3.6321802|Wish Upon a Star ...|              Comedy|\n",
      "|   1264|     1| 3.6145625|         Diva (1981)|Action|Drama|Myst...|\n",
      "|   2105|     1|  3.470392|         Tron (1982)|Action|Adventure|...|\n",
      "|   3260|     1|  3.467227|  Howards End (1992)|               Drama|\n",
      "|   5017|     1| 3.4540367|Big Heat, The (1953)|     Drama|Film-Noir|\n",
      "|    955|     1|   3.44335|Bringing Up Baby ...|      Comedy|Romance|\n",
      "|   1734|     1| 3.4340425|My Life in Pink (...|        Comedy|Drama|\n",
      "|  86377|     1|  3.423299|Louis C.K.: Shame...|              Comedy|\n",
      "|   3083|     1| 3.4232152|All About My Moth...|               Drama|\n",
      "|   8264|     1| 3.4165528| Grey Gardens (1975)|         Documentary|\n",
      "|  27846|     1| 3.4085884|Corporation, The ...|         Documentary|\n",
      "| 106920|     1|  3.403481|          Her (2013)|Drama|Romance|Sci-Fi|\n",
      "|  31435|     1|  3.397064|Rory O'Shea Was H...|               Drama|\n",
      "|   3019|     1| 3.3945513|Drugstore Cowboy ...|         Crime|Drama|\n",
      "+-------+------+----------+--------------------+--------------------+\n",
      "only showing top 20 rows\n",
      "\n"
     ]
    }
   ],
   "source": [
    "recommendations.join(moviesDF, \"movieId\").show"
   ]
  },
  {
   "cell_type": "markdown",
   "metadata": {},
   "source": [
    "### Evaluations"
   ]
  },
  {
   "cell_type": "code",
   "execution_count": 24,
   "metadata": {},
   "outputs": [
    {
     "data": {
      "text/plain": [
       "evaluatePredictions: (predictions: org.apache.spark.sql.Dataset[org.apache.spark.sql.Row])Double\n"
      ]
     },
     "metadata": {},
     "output_type": "display_data"
    }
   ],
   "source": [
    "import org.apache.spark.sql.Dataset\n",
    "import org.apache.spark.sql.Row\n",
    "\n",
    "def evaluatePredictions(predictions: Dataset[Row]): Double = {\n",
    "    import org.apache.spark.ml.evaluation.RegressionEvaluator\n",
    "    \n",
    "    val evaluator = new RegressionEvaluator()\n",
    "        .setMetricName(\"rmse\")\n",
    "        .setLabelCol(\"rating\")\n",
    "        .setPredictionCol(\"prediction\")\n",
    "    \n",
    "    evaluator.evaluate(predictions)\n",
    "}"
   ]
  },
  {
   "cell_type": "markdown",
   "metadata": {},
   "source": [
    "* trainData performance"
   ]
  },
  {
   "cell_type": "code",
   "execution_count": 25,
   "metadata": {},
   "outputs": [
    {
     "name": "stdout",
     "output_type": "stream",
     "text": [
      "[Stage 329:====================================================>(198 + 1) / 200]RMSE: 0.5122725666179361\n"
     ]
    },
    {
     "data": {
      "text/plain": [
       "rmse = 0.5122725666179361\n"
      ]
     },
     "metadata": {},
     "output_type": "display_data"
    },
    {
     "data": {
      "text/plain": [
       "0.5122725666179361"
      ]
     },
     "execution_count": 25,
     "metadata": {},
     "output_type": "execute_result"
    }
   ],
   "source": [
    "val rmse = evaluatePredictions(trainPredictions)\n",
    "println(s\"RMSE: $rmse\")"
   ]
  },
  {
   "cell_type": "code",
   "execution_count": 26,
   "metadata": {},
   "outputs": [
    {
     "name": "stdout",
     "output_type": "stream",
     "text": [
      "RMSE: 0.9170539467582317                                                        \n"
     ]
    },
    {
     "data": {
      "text/plain": [
       "rmse = 0.9170539467582317\n"
      ]
     },
     "metadata": {},
     "output_type": "display_data"
    },
    {
     "data": {
      "text/plain": [
       "0.9170539467582317"
      ]
     },
     "execution_count": 26,
     "metadata": {},
     "output_type": "execute_result"
    }
   ],
   "source": [
    "val rmse = evaluatePredictions(testPredictions)\n",
    "println(s\"RMSE: $rmse\")"
   ]
  },
  {
   "cell_type": "markdown",
   "metadata": {},
   "source": [
    "* testData performance"
   ]
  },
  {
   "cell_type": "markdown",
   "metadata": {},
   "source": [
    "# Test hyperparameters "
   ]
  },
  {
   "cell_type": "code",
   "execution_count": 33,
   "metadata": {},
   "outputs": [
    {
     "data": {
      "text/plain": [
       "ranks = List(10, 100)\n",
       "regParams = List(2.0, 0.05, 1.0E-4)\n",
       "alphas = List(0.01, 10.0)\n",
       "iters = List(10, 20)\n"
      ]
     },
     "metadata": {},
     "output_type": "display_data"
    },
    {
     "data": {
      "text/plain": [
       "List(10, 20)"
      ]
     },
     "execution_count": 33,
     "metadata": {},
     "output_type": "execute_result"
    }
   ],
   "source": [
    "val ranks = Seq(10, 100)\n",
    "val regParams = Seq(2, 0.05, 0.0001)\n",
    "val alphas = Seq(0.01, 10)\n",
    "val iters = Seq(10, 20)"
   ]
  },
  {
   "cell_type": "code",
   "execution_count": 34,
   "metadata": {},
   "outputs": [
    {
     "data": {
      "text/plain": [
       "isNaN = UserDefinedFunction(<function1>,BooleanType,Some(List(DoubleType)))\n"
      ]
     },
     "metadata": {},
     "output_type": "display_data"
    },
    {
     "data": {
      "text/plain": [
       "UserDefinedFunction(<function1>,BooleanType,Some(List(DoubleType)))"
      ]
     },
     "execution_count": 34,
     "metadata": {},
     "output_type": "execute_result"
    }
   ],
   "source": [
    "import org.apache.spark.sql.functions.udf\n",
    "val isNaN = udf { v: Double => v.isNaN }"
   ]
  },
  {
   "cell_type": "code",
   "execution_count": 38,
   "metadata": {},
   "outputs": [
    {
     "name": "stdout",
     "output_type": "stream",
     "text": [
      "Rank: 10, RegParam: 2.0, Alpha: 0.01                                            \n",
      "\t Train RMSE: 2.1545798738250093\n",
      "\t Test RMSE: 2.1832116656462577\n",
      "\n",
      "Rank: 10, RegParam: 2.0, Alpha: 10.0                                            \n",
      "\t Train RMSE: 2.1545798738250093\n",
      "\t Test RMSE: 2.1832116656462577\n",
      "\n",
      "Rank: 10, RegParam: 0.05, Alpha: 0.01                                           \n",
      "\t Train RMSE: 0.5170003376388996\n",
      "\t Test RMSE: 0.9881429612293389\n",
      "\n",
      "Rank: 10, RegParam: 0.05, Alpha: 10.0                                           \n",
      "\t Train RMSE: 0.5170003376388996\n",
      "\t Test RMSE: 0.9881429612293389\n",
      "\n",
      "Rank: 10, RegParam: 1.0E-4, Alpha: 0.01                                         \n",
      "\t Train RMSE: 0.49754727135166815\n",
      "\t Test RMSE: 1.5290804178416728\n",
      "\n",
      "Rank: 10, RegParam: 1.0E-4, Alpha: 10.0                                         \n",
      "\t Train RMSE: 0.49754727135166815\n",
      "\t Test RMSE: 1.5290804178416728\n",
      "\n",
      "Rank: 100, RegParam: 2.0, Alpha: 0.01                                           \n",
      "\t Train RMSE: 2.1545798728538643\n",
      "\t Test RMSE: 2.183211676271904\n",
      "\n",
      "Rank: 100, RegParam: 2.0, Alpha: 10.0                                           \n",
      "\t Train RMSE: 2.1545798728538643\n",
      "\t Test RMSE: 2.183211676271904\n",
      "\n",
      "Rank: 100, RegParam: 0.05, Alpha: 0.01                                          \n",
      "\t Train RMSE: 0.26571131349041316\n",
      "\t Test RMSE: 0.9935912364520166\n",
      "\n",
      "Rank: 100, RegParam: 0.05, Alpha: 10.0                                          \n",
      "\t Train RMSE: 0.26571131349041316\n",
      "\t Test RMSE: 0.9935912364520166\n",
      "\n",
      "Rank: 100, RegParam: 1.0E-4, Alpha: 0.01                                        \n",
      "\t Train RMSE: 0.011986853593557183\n",
      "\t Test RMSE: 2.8881108946011445\n",
      "\n",
      "Rank: 100, RegParam: 1.0E-4, Alpha: 10.0                                        \n",
      "\t Train RMSE: 0.011986853593557183\n",
      "\t Test RMSE: 2.8881108946011445\n",
      "\n"
     ]
    },
    {
     "data": {
      "text/plain": [
       "lastException: Throwable = null\n"
      ]
     },
     "metadata": {},
     "output_type": "display_data"
    }
   ],
   "source": [
    "for (rank <- ranks; regParam <- regParams; alpha <- alphas) {\n",
    "    val model = new ALS()\n",
    "        .setMaxIter(iter)\n",
    "        .setRank(rank)\n",
    "        .setAlpha(alpha)\n",
    "        .setRegParam(regParam)\n",
    "        .setUserCol(\"userId\")\n",
    "        .setItemCol(\"movieId\")\n",
    "        .setRatingCol(\"rating\")\n",
    "        .setPredictionCol(\"prediction\")\n",
    "        .setImplicitPrefs(false)\n",
    "        .fit(trainData)\n",
    "        \n",
    "    model.setColdStartStrategy(\"drop\")\n",
    "        \n",
    "    val trainPredictions = model.transform(trainData)\n",
    "    val testPredictions = model.transform(testData)\n",
    "    \n",
    "    val trainRMSE = evaluatePredictions(trainPredictions)\n",
    "    val testRMSE = evaluatePredictions(testPredictions)\n",
    "    \n",
    "    println(s\"Rank: ${rank}, RegParam: ${regParam}, Alpha: ${alpha}\")\n",
    "    println(s\"\\t Train RMSE: ${trainRMSE}\")\n",
    "    println(s\"\\t Test RMSE: ${testRMSE}\")\n",
    "    println\n",
    "}"
   ]
  },
  {
   "cell_type": "code",
   "execution_count": 40,
   "metadata": {},
   "outputs": [
    {
     "data": {
      "text/plain": [
       "0"
      ]
     },
     "execution_count": 40,
     "metadata": {},
     "output_type": "execute_result"
    }
   ],
   "source": [
    "trainData.filter(isNaN($\"rating\")).count()"
   ]
  },
  {
   "cell_type": "code",
   "execution_count": null,
   "metadata": {
    "collapsed": true
   },
   "outputs": [],
   "source": []
  }
 ],
 "metadata": {
  "kernelspec": {
   "display_name": "Apache Toree - Scala",
   "language": "scala",
   "name": "apache_toree_scala"
  },
  "language_info": {
   "codemirror_mode": "text/x-scala",
   "file_extension": ".scala",
   "mimetype": "text/x-scala",
   "name": "scala",
   "pygments_lexer": "scala",
   "version": "2.11.8"
  }
 },
 "nbformat": 4,
 "nbformat_minor": 2
}
