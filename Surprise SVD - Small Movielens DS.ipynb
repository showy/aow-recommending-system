{
 "cells": [
  {
   "cell_type": "code",
   "execution_count": 16,
   "metadata": {},
   "outputs": [],
   "source": [
    "from surprise import SVDpp\n",
    "from surprise import Dataset\n",
    "from surprise import evaluate, print_perf\n",
    "from surprise import GridSearch\n",
    "import pandas as pd\n",
    "from surprise import Reader"
   ]
  },
  {
   "cell_type": "code",
   "execution_count": 6,
   "metadata": {
    "collapsed": true
   },
   "outputs": [],
   "source": [
    "ratings_file = \"../datasets/movielens/ml-latest-small/ratings.csv\""
   ]
  },
  {
   "cell_type": "code",
   "execution_count": 7,
   "metadata": {
    "collapsed": true
   },
   "outputs": [],
   "source": [
    "df = pd.read_csv(ratings_file)"
   ]
  },
  {
   "cell_type": "code",
   "execution_count": 8,
   "metadata": {
    "collapsed": true
   },
   "outputs": [],
   "source": [
    "reader = Reader(rating_scale=(1, 5))"
   ]
  },
  {
   "cell_type": "code",
   "execution_count": 9,
   "metadata": {},
   "outputs": [
    {
     "data": {
      "text/html": [
       "<div>\n",
       "<style>\n",
       "    .dataframe thead tr:only-child th {\n",
       "        text-align: right;\n",
       "    }\n",
       "\n",
       "    .dataframe thead th {\n",
       "        text-align: left;\n",
       "    }\n",
       "\n",
       "    .dataframe tbody tr th {\n",
       "        vertical-align: top;\n",
       "    }\n",
       "</style>\n",
       "<table border=\"1\" class=\"dataframe\">\n",
       "  <thead>\n",
       "    <tr style=\"text-align: right;\">\n",
       "      <th></th>\n",
       "      <th>userId</th>\n",
       "      <th>movieId</th>\n",
       "      <th>rating</th>\n",
       "      <th>timestamp</th>\n",
       "    </tr>\n",
       "  </thead>\n",
       "  <tbody>\n",
       "    <tr>\n",
       "      <th>count</th>\n",
       "      <td>100004.000000</td>\n",
       "      <td>100004.000000</td>\n",
       "      <td>100004.000000</td>\n",
       "      <td>1.000040e+05</td>\n",
       "    </tr>\n",
       "    <tr>\n",
       "      <th>mean</th>\n",
       "      <td>347.011310</td>\n",
       "      <td>12548.664363</td>\n",
       "      <td>3.543608</td>\n",
       "      <td>1.129639e+09</td>\n",
       "    </tr>\n",
       "    <tr>\n",
       "      <th>std</th>\n",
       "      <td>195.163838</td>\n",
       "      <td>26369.198969</td>\n",
       "      <td>1.058064</td>\n",
       "      <td>1.916858e+08</td>\n",
       "    </tr>\n",
       "    <tr>\n",
       "      <th>min</th>\n",
       "      <td>1.000000</td>\n",
       "      <td>1.000000</td>\n",
       "      <td>0.500000</td>\n",
       "      <td>7.896520e+08</td>\n",
       "    </tr>\n",
       "    <tr>\n",
       "      <th>25%</th>\n",
       "      <td>182.000000</td>\n",
       "      <td>1028.000000</td>\n",
       "      <td>3.000000</td>\n",
       "      <td>9.658478e+08</td>\n",
       "    </tr>\n",
       "    <tr>\n",
       "      <th>50%</th>\n",
       "      <td>367.000000</td>\n",
       "      <td>2406.500000</td>\n",
       "      <td>4.000000</td>\n",
       "      <td>1.110422e+09</td>\n",
       "    </tr>\n",
       "    <tr>\n",
       "      <th>75%</th>\n",
       "      <td>520.000000</td>\n",
       "      <td>5418.000000</td>\n",
       "      <td>4.000000</td>\n",
       "      <td>1.296192e+09</td>\n",
       "    </tr>\n",
       "    <tr>\n",
       "      <th>max</th>\n",
       "      <td>671.000000</td>\n",
       "      <td>163949.000000</td>\n",
       "      <td>5.000000</td>\n",
       "      <td>1.476641e+09</td>\n",
       "    </tr>\n",
       "  </tbody>\n",
       "</table>\n",
       "</div>"
      ],
      "text/plain": [
       "              userId        movieId         rating     timestamp\n",
       "count  100004.000000  100004.000000  100004.000000  1.000040e+05\n",
       "mean      347.011310   12548.664363       3.543608  1.129639e+09\n",
       "std       195.163838   26369.198969       1.058064  1.916858e+08\n",
       "min         1.000000       1.000000       0.500000  7.896520e+08\n",
       "25%       182.000000    1028.000000       3.000000  9.658478e+08\n",
       "50%       367.000000    2406.500000       4.000000  1.110422e+09\n",
       "75%       520.000000    5418.000000       4.000000  1.296192e+09\n",
       "max       671.000000  163949.000000       5.000000  1.476641e+09"
      ]
     },
     "execution_count": 9,
     "metadata": {},
     "output_type": "execute_result"
    }
   ],
   "source": [
    "df.describe()"
   ]
  },
  {
   "cell_type": "raw",
   "metadata": {},
   "source": [
    "df.columns"
   ]
  },
  {
   "cell_type": "code",
   "execution_count": 10,
   "metadata": {
    "collapsed": true
   },
   "outputs": [],
   "source": [
    "data = Dataset.load_from_df(df[[\"userId\", \"movieId\", \"rating\"]], reader)"
   ]
  },
  {
   "cell_type": "code",
   "execution_count": 11,
   "metadata": {},
   "outputs": [
    {
     "name": "stdout",
     "output_type": "stream",
     "text": [
      "Evaluating RMSE, MAE of algorithm SVD.\n",
      "\n",
      "------------\n",
      "Fold 1\n",
      "RMSE: 0.9101\n",
      "MAE:  0.7012\n",
      "------------\n",
      "Fold 2\n",
      "RMSE: 0.8957\n",
      "MAE:  0.6910\n",
      "------------\n",
      "Fold 3\n",
      "RMSE: 0.9028\n",
      "MAE:  0.6952\n",
      "------------\n",
      "------------\n",
      "Mean RMSE: 0.9029\n",
      "Mean MAE : 0.6958\n",
      "------------\n",
      "------------\n",
      "        Fold 1  Fold 2  Fold 3  Mean    \n",
      "RMSE    0.9101  0.8957  0.9028  0.9029  \n",
      "MAE     0.7012  0.6910  0.6952  0.6958  \n"
     ]
    }
   ],
   "source": [
    "data.split(n_folds=3)\n",
    "\n",
    "algo = SVD()\n",
    "\n",
    "perf = evaluate(algo, data, measures=['RMSE', 'MAE'])\n",
    "\n",
    "print_perf(perf)"
   ]
  },
  {
   "cell_type": "code",
   "execution_count": 12,
   "metadata": {},
   "outputs": [],
   "source": [
    "factors = [ 50, 100 ]\n",
    "reg_all = [ 10, 1, 0.05 , 0.001 ]\n",
    "lr_all = [ 10, 1, 0.05, 0.001 ]\n",
    "epochs = [ 20, 30 ]\n",
    "\n",
    "gridsearch_params = { \"n_factors\": factors, \"reg_all\": reg_all, \"lr_all\": lr_all, \"n_epochs\": epochs }"
   ]
  },
  {
   "cell_type": "code",
   "execution_count": 17,
   "metadata": {},
   "outputs": [
    {
     "name": "stdout",
     "output_type": "stream",
     "text": [
      "[{'n_factors': 50, 'reg_all': 10, 'lr_all': 10, 'n_epochs': 20}, {'n_factors': 50, 'reg_all': 10, 'lr_all': 10, 'n_epochs': 30}, {'n_factors': 50, 'reg_all': 10, 'lr_all': 1, 'n_epochs': 20}, {'n_factors': 50, 'reg_all': 10, 'lr_all': 1, 'n_epochs': 30}, {'n_factors': 50, 'reg_all': 10, 'lr_all': 0.05, 'n_epochs': 20}, {'n_factors': 50, 'reg_all': 10, 'lr_all': 0.05, 'n_epochs': 30}, {'n_factors': 50, 'reg_all': 10, 'lr_all': 0.001, 'n_epochs': 20}, {'n_factors': 50, 'reg_all': 10, 'lr_all': 0.001, 'n_epochs': 30}, {'n_factors': 50, 'reg_all': 1, 'lr_all': 10, 'n_epochs': 20}, {'n_factors': 50, 'reg_all': 1, 'lr_all': 10, 'n_epochs': 30}, {'n_factors': 50, 'reg_all': 1, 'lr_all': 1, 'n_epochs': 20}, {'n_factors': 50, 'reg_all': 1, 'lr_all': 1, 'n_epochs': 30}, {'n_factors': 50, 'reg_all': 1, 'lr_all': 0.05, 'n_epochs': 20}, {'n_factors': 50, 'reg_all': 1, 'lr_all': 0.05, 'n_epochs': 30}, {'n_factors': 50, 'reg_all': 1, 'lr_all': 0.001, 'n_epochs': 20}, {'n_factors': 50, 'reg_all': 1, 'lr_all': 0.001, 'n_epochs': 30}, {'n_factors': 50, 'reg_all': 0.05, 'lr_all': 10, 'n_epochs': 20}, {'n_factors': 50, 'reg_all': 0.05, 'lr_all': 10, 'n_epochs': 30}, {'n_factors': 50, 'reg_all': 0.05, 'lr_all': 1, 'n_epochs': 20}, {'n_factors': 50, 'reg_all': 0.05, 'lr_all': 1, 'n_epochs': 30}, {'n_factors': 50, 'reg_all': 0.05, 'lr_all': 0.05, 'n_epochs': 20}, {'n_factors': 50, 'reg_all': 0.05, 'lr_all': 0.05, 'n_epochs': 30}, {'n_factors': 50, 'reg_all': 0.05, 'lr_all': 0.001, 'n_epochs': 20}, {'n_factors': 50, 'reg_all': 0.05, 'lr_all': 0.001, 'n_epochs': 30}, {'n_factors': 50, 'reg_all': 0.001, 'lr_all': 10, 'n_epochs': 20}, {'n_factors': 50, 'reg_all': 0.001, 'lr_all': 10, 'n_epochs': 30}, {'n_factors': 50, 'reg_all': 0.001, 'lr_all': 1, 'n_epochs': 20}, {'n_factors': 50, 'reg_all': 0.001, 'lr_all': 1, 'n_epochs': 30}, {'n_factors': 50, 'reg_all': 0.001, 'lr_all': 0.05, 'n_epochs': 20}, {'n_factors': 50, 'reg_all': 0.001, 'lr_all': 0.05, 'n_epochs': 30}, {'n_factors': 50, 'reg_all': 0.001, 'lr_all': 0.001, 'n_epochs': 20}, {'n_factors': 50, 'reg_all': 0.001, 'lr_all': 0.001, 'n_epochs': 30}, {'n_factors': 100, 'reg_all': 10, 'lr_all': 10, 'n_epochs': 20}, {'n_factors': 100, 'reg_all': 10, 'lr_all': 10, 'n_epochs': 30}, {'n_factors': 100, 'reg_all': 10, 'lr_all': 1, 'n_epochs': 20}, {'n_factors': 100, 'reg_all': 10, 'lr_all': 1, 'n_epochs': 30}, {'n_factors': 100, 'reg_all': 10, 'lr_all': 0.05, 'n_epochs': 20}, {'n_factors': 100, 'reg_all': 10, 'lr_all': 0.05, 'n_epochs': 30}, {'n_factors': 100, 'reg_all': 10, 'lr_all': 0.001, 'n_epochs': 20}, {'n_factors': 100, 'reg_all': 10, 'lr_all': 0.001, 'n_epochs': 30}, {'n_factors': 100, 'reg_all': 1, 'lr_all': 10, 'n_epochs': 20}, {'n_factors': 100, 'reg_all': 1, 'lr_all': 10, 'n_epochs': 30}, {'n_factors': 100, 'reg_all': 1, 'lr_all': 1, 'n_epochs': 20}, {'n_factors': 100, 'reg_all': 1, 'lr_all': 1, 'n_epochs': 30}, {'n_factors': 100, 'reg_all': 1, 'lr_all': 0.05, 'n_epochs': 20}, {'n_factors': 100, 'reg_all': 1, 'lr_all': 0.05, 'n_epochs': 30}, {'n_factors': 100, 'reg_all': 1, 'lr_all': 0.001, 'n_epochs': 20}, {'n_factors': 100, 'reg_all': 1, 'lr_all': 0.001, 'n_epochs': 30}, {'n_factors': 100, 'reg_all': 0.05, 'lr_all': 10, 'n_epochs': 20}, {'n_factors': 100, 'reg_all': 0.05, 'lr_all': 10, 'n_epochs': 30}, {'n_factors': 100, 'reg_all': 0.05, 'lr_all': 1, 'n_epochs': 20}, {'n_factors': 100, 'reg_all': 0.05, 'lr_all': 1, 'n_epochs': 30}, {'n_factors': 100, 'reg_all': 0.05, 'lr_all': 0.05, 'n_epochs': 20}, {'n_factors': 100, 'reg_all': 0.05, 'lr_all': 0.05, 'n_epochs': 30}, {'n_factors': 100, 'reg_all': 0.05, 'lr_all': 0.001, 'n_epochs': 20}, {'n_factors': 100, 'reg_all': 0.05, 'lr_all': 0.001, 'n_epochs': 30}, {'n_factors': 100, 'reg_all': 0.001, 'lr_all': 10, 'n_epochs': 20}, {'n_factors': 100, 'reg_all': 0.001, 'lr_all': 10, 'n_epochs': 30}, {'n_factors': 100, 'reg_all': 0.001, 'lr_all': 1, 'n_epochs': 20}, {'n_factors': 100, 'reg_all': 0.001, 'lr_all': 1, 'n_epochs': 30}, {'n_factors': 100, 'reg_all': 0.001, 'lr_all': 0.05, 'n_epochs': 20}, {'n_factors': 100, 'reg_all': 0.001, 'lr_all': 0.05, 'n_epochs': 30}, {'n_factors': 100, 'reg_all': 0.001, 'lr_all': 0.001, 'n_epochs': 20}, {'n_factors': 100, 'reg_all': 0.001, 'lr_all': 0.001, 'n_epochs': 30}]\n"
     ]
    }
   ],
   "source": [
    "grid_search = GridSearch(SVDpp, gridsearch_params, measures=['RMSE', 'MAE'])\n"
   ]
  },
  {
   "cell_type": "code",
   "execution_count": null,
   "metadata": {},
   "outputs": [
    {
     "name": "stdout",
     "output_type": "stream",
     "text": [
      "------------\n",
      "Parameters combination 1 of 64\n",
      "params:  {'n_factors': 50, 'reg_all': 10, 'lr_all': 10, 'n_epochs': 20}\n",
      "------------\n",
      "Mean RMSE: 1.8001\n",
      "Mean MAE : 1.4564\n",
      "------------\n",
      "------------\n",
      "Parameters combination 2 of 64\n",
      "params:  {'n_factors': 50, 'reg_all': 10, 'lr_all': 10, 'n_epochs': 30}\n"
     ]
    }
   ],
   "source": [
    "grid_search.evaluate(data)"
   ]
  },
  {
   "cell_type": "code",
   "execution_count": null,
   "metadata": {
    "collapsed": true
   },
   "outputs": [],
   "source": []
  }
 ],
 "metadata": {
  "kernelspec": {
   "display_name": "Python 3",
   "language": "python",
   "name": "python3"
  },
  "language_info": {
   "codemirror_mode": {
    "name": "ipython",
    "version": 3
   },
   "file_extension": ".py",
   "mimetype": "text/x-python",
   "name": "python",
   "nbconvert_exporter": "python",
   "pygments_lexer": "ipython3",
   "version": "3.6.1"
  }
 },
 "nbformat": 4,
 "nbformat_minor": 2
}
