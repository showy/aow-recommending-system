{
 "cells": [
  {
   "cell_type": "code",
   "execution_count": 37,
   "metadata": {},
   "outputs": [],
   "source": [
    "import implicit\n",
    "import numpy as np\n",
    "import pickle\n",
    "import scipy.sparse as sp\n",
    "import numpy\n"
   ]
  },
  {
   "cell_type": "markdown",
   "metadata": {},
   "source": [
    "# Variable definitions"
   ]
  },
  {
   "cell_type": "code",
   "execution_count": 2,
   "metadata": {},
   "outputs": [],
   "source": [
    "train_file = \"../datasets/AOW-private/TRAIN_AOW_100negative\""
   ]
  },
  {
   "cell_type": "code",
   "execution_count": 3,
   "metadata": {},
   "outputs": [],
   "source": [
    "df_train_neg = pickle.load(open(train_file, \"rb\"))"
   ]
  },
  {
   "cell_type": "code",
   "execution_count": 4,
   "metadata": {},
   "outputs": [],
   "source": [
    "df_train = df_train_neg[df_train_neg[\"labels\"] == 1]"
   ]
  },
  {
   "cell_type": "markdown",
   "metadata": {},
   "source": [
    "# Convert dataframe to coo matrix"
   ]
  },
  {
   "cell_type": "code",
   "execution_count": 11,
   "metadata": {},
   "outputs": [],
   "source": [
    "m = sp.coo_matrix(df_train.to_dense())"
   ]
  },
  {
   "cell_type": "code",
   "execution_count": 18,
   "metadata": {},
   "outputs": [
    {
     "name": "stderr",
     "output_type": "stream",
     "text": [
      "/home/showy/pythonenvs/py36/lib/python3.6/site-packages/ipykernel_launcher.py:1: SettingWithCopyWarning: \n",
      "A value is trying to be set on a copy of a slice from a DataFrame.\n",
      "Try using .loc[row_indexer,col_indexer] = value instead\n",
      "\n",
      "See the caveats in the documentation: http://pandas.pydata.org/pandas-docs/stable/indexing.html#indexing-view-versus-copy\n",
      "  \"\"\"Entry point for launching an IPython kernel.\n"
     ]
    }
   ],
   "source": [
    "df_train['matrix_user_id'] = df_train['id_user'].astype('category')"
   ]
  },
  {
   "cell_type": "code",
   "execution_count": 19,
   "metadata": {},
   "outputs": [
    {
     "name": "stderr",
     "output_type": "stream",
     "text": [
      "/home/showy/pythonenvs/py36/lib/python3.6/site-packages/ipykernel_launcher.py:1: SettingWithCopyWarning: \n",
      "A value is trying to be set on a copy of a slice from a DataFrame.\n",
      "Try using .loc[row_indexer,col_indexer] = value instead\n",
      "\n",
      "See the caveats in the documentation: http://pandas.pydata.org/pandas-docs/stable/indexing.html#indexing-view-versus-copy\n",
      "  \"\"\"Entry point for launching an IPython kernel.\n"
     ]
    }
   ],
   "source": [
    "df_train['matrix_item_id'] = df_train['id_item'].astype('category')"
   ]
  },
  {
   "cell_type": "code",
   "execution_count": 38,
   "metadata": {},
   "outputs": [],
   "source": [
    "AOW_coo_matrix = sp.coo_matrix(\n",
    "    (\n",
    "        df_train['labels'].astype(numpy.float32),\n",
    "        (\n",
    "            df_train['matrix_user_id'].cat.codes.copy(),\n",
    "            df_train['matrix_item_id'].cat.codes.copy()\n",
    "        )\n",
    "    )\n",
    ")"
   ]
  },
  {
   "cell_type": "markdown",
   "metadata": {},
   "source": [
    "# Build model"
   ]
  },
  {
   "cell_type": "code",
   "execution_count": 39,
   "metadata": {},
   "outputs": [],
   "source": [
    "model = implicit.als.AlternatingLeastSquares(factors=50)"
   ]
  },
  {
   "cell_type": "code",
   "execution_count": 40,
   "metadata": {},
   "outputs": [],
   "source": [
    "model.fit(AOW_coo_matrix)"
   ]
  },
  {
   "cell_type": "code",
   "execution_count": 41,
   "metadata": {},
   "outputs": [
    {
     "name": "stdout",
     "output_type": "stream",
     "text": [
      "Help on AlternatingLeastSquares in module implicit.als object:\n",
      "\n",
      "class AlternatingLeastSquares(implicit.recommender_base.MatrixFactorizationBase)\n",
      " |  Alternating Least Squares\n",
      " |  \n",
      " |  A Recommendation Model based off the algorithms described in the paper 'Collaborative\n",
      " |  Filtering for Implicit Feedback Datasets' with performance optimizations described in\n",
      " |  'Applications of the Conjugate Gradient Method for Implicit Feedback Collaborative\n",
      " |  Filtering.'\n",
      " |  \n",
      " |  Parameters\n",
      " |  ----------\n",
      " |  factors : int, optional\n",
      " |      The number of latent factors to compute\n",
      " |  regularization : float, optional\n",
      " |      The regularization factor to use\n",
      " |  dtype : data-type, optional\n",
      " |      Specifies whether to generate 64 bit or 32 bit floating point factors\n",
      " |  use_native : bool, optional\n",
      " |      Use native extensions to speed up model fitting\n",
      " |  use_cg : bool, optional\n",
      " |      Use a faster Conjugate Gradient solver to calculate factors\n",
      " |  use_gpu : bool, optional\n",
      " |      Fit on the GPU if available\n",
      " |  iterations : int, optional\n",
      " |      The number of ALS iterations to use when fitting data\n",
      " |  calculate_training_loss : bool, optional\n",
      " |      Whether to log out the training loss at each iteration\n",
      " |  num_threads : int, optional\n",
      " |      The number of threads to use for fitting the model. This only\n",
      " |      applies for the native extensions. Specifying 0 means to default\n",
      " |      to the number of cores on the machine.\n",
      " |  \n",
      " |  Attributes\n",
      " |  ----------\n",
      " |  item_factors : ndarray\n",
      " |      Array of latent factors for each item in the training set\n",
      " |  user_factors : ndarray\n",
      " |      Array of latent factors for each user in the training set\n",
      " |  \n",
      " |  Method resolution order:\n",
      " |      AlternatingLeastSquares\n",
      " |      implicit.recommender_base.MatrixFactorizationBase\n",
      " |      implicit.recommender_base.RecommenderBase\n",
      " |      builtins.object\n",
      " |  \n",
      " |  Methods defined here:\n",
      " |  \n",
      " |  __init__(self, factors=100, regularization=0.01, dtype=<class 'numpy.float32'>, use_native=True, use_cg=True, use_gpu=False, iterations=15, calculate_training_loss=False, num_threads=0)\n",
      " |      Initialize self.  See help(type(self)) for accurate signature.\n",
      " |  \n",
      " |  explain(self, userid, user_items, itemid, user_weights=None, N=10)\n",
      " |      Provides explanations for why the item is liked by the user.\n",
      " |      \n",
      " |      Parameters\n",
      " |      ---------\n",
      " |      userid : int\n",
      " |          The userid to explain recommendations for\n",
      " |      user_items : csr_matrix\n",
      " |          Sparse matrix containing the liked items for the user\n",
      " |      itemid : int\n",
      " |          The itemid to explain recommendations for\n",
      " |      user_weights : ndarray, optional\n",
      " |          Precomputed Cholesky decomposition of the weighted user liked items.\n",
      " |          Useful for speeding up repeated calls to this function, this value\n",
      " |          is returned\n",
      " |      N : int, optional\n",
      " |          The number of liked items to show the contribution for\n",
      " |      \n",
      " |      Returns\n",
      " |      -------\n",
      " |      total_score : float\n",
      " |          The total predicted score for this user/item pair\n",
      " |      top_contributions : list\n",
      " |          A list of the top N (itemid, score) contributions for this user/item pair\n",
      " |      user_weights : ndarray\n",
      " |          A factorized representation of the user. Passing this in to\n",
      " |          future 'explain' calls will lead to noticeable speedups\n",
      " |  \n",
      " |  fit(self, item_users)\n",
      " |      Factorizes the item_users matrix.\n",
      " |      \n",
      " |      After calling this method, the members 'user_factors' and 'item_factors' will be\n",
      " |      initialized with a latent factor model of the input data.\n",
      " |      \n",
      " |      The item_users matrix does double duty here. It defines which items are liked by which\n",
      " |      users (P_iu in the original paper), as well as how much confidence we have that the user\n",
      " |      liked the item (C_iu).\n",
      " |      \n",
      " |      The negative items are implicitly defined: This code assumes that non-zero items in the\n",
      " |      item_users matrix means that the user liked the item. The negatives are left unset in this\n",
      " |      sparse matrix: the library will assume that means Piu = 0 and Ciu = 1 for all these items.\n",
      " |      \n",
      " |      Parameters\n",
      " |      ----------\n",
      " |      item_users: csr_matrix\n",
      " |          Matrix of confidences for the liked items. This matrix should be a csr_matrix where\n",
      " |          the rows of the matrix are the item, the columns are the users that liked that item,\n",
      " |          and the value is the confidence that the user liked the item.\n",
      " |  \n",
      " |  recalculate_user(self, userid, user_items)\n",
      " |  \n",
      " |  ----------------------------------------------------------------------\n",
      " |  Data descriptors defined here:\n",
      " |  \n",
      " |  YtY\n",
      " |  \n",
      " |  solver\n",
      " |  \n",
      " |  ----------------------------------------------------------------------\n",
      " |  Methods inherited from implicit.recommender_base.MatrixFactorizationBase:\n",
      " |  \n",
      " |  recommend(self, userid, user_items, N=10, filter_items=None, recalculate_user=False)\n",
      " |      Recommends items for a user\n",
      " |      \n",
      " |      Calculates the N best recommendations for a user, and returns a list of itemids, score.\n",
      " |      \n",
      " |      Parameters\n",
      " |      ----------\n",
      " |      userid : int\n",
      " |          The userid to calculate recommendations for\n",
      " |      user_items : csr_matrix\n",
      " |          A sparse matrix of shape (number_users, number_items). This lets us look\n",
      " |          up the liked items and their weights for the user. This is used to filter out\n",
      " |          items that have already been liked from the output, and to also potentially\n",
      " |          calculate the best items for this user.\n",
      " |      N : int, optional\n",
      " |          The number of results to return\n",
      " |      filter_items : sequence of ints, optional\n",
      " |          List of extra item ids to filter out from the output\n",
      " |      recalculate_user : bool, optional\n",
      " |          When true, don't rely on stored user state and instead recalculate from the\n",
      " |          passed in user_items\n",
      " |      \n",
      " |      Returns\n",
      " |      -------\n",
      " |      list\n",
      " |          List of (itemid, score) tuples\n",
      " |  \n",
      " |  similar_items(self, itemid, N=10)\n",
      " |      Calculates a list of similar items\n",
      " |      \n",
      " |      Parameters\n",
      " |      ----------\n",
      " |      itemid : int\n",
      " |          The row id of the item to retrieve similar items for\n",
      " |      N : int, optional\n",
      " |          The number of similar items to return\n",
      " |      \n",
      " |      Returns\n",
      " |      -------\n",
      " |      list\n",
      " |          List of (itemid, score) tuples\n",
      " |  \n",
      " |  ----------------------------------------------------------------------\n",
      " |  Data descriptors inherited from implicit.recommender_base.MatrixFactorizationBase:\n",
      " |  \n",
      " |  item_norms\n",
      " |  \n",
      " |  ----------------------------------------------------------------------\n",
      " |  Data descriptors inherited from implicit.recommender_base.RecommenderBase:\n",
      " |  \n",
      " |  __dict__\n",
      " |      dictionary for instance variables (if defined)\n",
      " |  \n",
      " |  __weakref__\n",
      " |      list of weak references to the object (if defined)\n",
      " |  \n",
      " |  ----------------------------------------------------------------------\n",
      " |  Data and other attributes inherited from implicit.recommender_base.RecommenderBase:\n",
      " |  \n",
      " |  __metaclass__ = <class 'abc.ABCMeta'>\n",
      " |      Metaclass for defining Abstract Base Classes (ABCs).\n",
      " |      \n",
      " |      Use this metaclass to create an ABC.  An ABC can be subclassed\n",
      " |      directly, and then acts as a mix-in class.  You can also register\n",
      " |      unrelated concrete classes (even built-in classes) and unrelated\n",
      " |      ABCs as 'virtual subclasses' -- these and their descendants will\n",
      " |      be considered subclasses of the registering ABC by the built-in\n",
      " |      issubclass() function, but the registering ABC won't show up in\n",
      " |      their MRO (Method Resolution Order) nor will method\n",
      " |      implementations defined by the registering ABC be callable (not\n",
      " |      even via super()).\n",
      "\n"
     ]
    }
   ],
   "source": [
    "help(model)"
   ]
  },
  {
   "cell_type": "code",
   "execution_count": 51,
   "metadata": {},
   "outputs": [
    {
     "data": {
      "text/plain": [
       "array([1, 241, 1, ..., 1, 262138, 1326], dtype=object)"
      ]
     },
     "execution_count": 51,
     "metadata": {},
     "output_type": "execute_result"
    }
   ],
   "source": [
    "sp.coo_matrix(df_train)"
   ]
  },
  {
   "cell_type": "code",
   "execution_count": 45,
   "metadata": {},
   "outputs": [
    {
     "ename": "AttributeError",
     "evalue": "'int' object has no attribute 'indices'",
     "output_type": "error",
     "traceback": [
      "\u001b[0;31m---------------------------------------------------------------------------\u001b[0m",
      "\u001b[0;31mAttributeError\u001b[0m                            Traceback (most recent call last)",
      "\u001b[0;32m<ipython-input-45-53a9687a2bd1>\u001b[0m in \u001b[0;36m<module>\u001b[0;34m()\u001b[0m\n\u001b[0;32m----> 1\u001b[0;31m \u001b[0mmodel\u001b[0m\u001b[0;34m.\u001b[0m\u001b[0mrecommend\u001b[0m\u001b[0;34m(\u001b[0m\u001b[0;36m0\u001b[0m\u001b[0;34m,\u001b[0m \u001b[0;34m[\u001b[0m\u001b[0;36m0\u001b[0m\u001b[0;34m,\u001b[0m\u001b[0;36m1\u001b[0m\u001b[0;34m]\u001b[0m\u001b[0;34m)\u001b[0m\u001b[0;34m\u001b[0m\u001b[0m\n\u001b[0m",
      "\u001b[0;32m~/pythonenvs/py36/lib/python3.6/site-packages/implicit/recommender_base.py\u001b[0m in \u001b[0;36mrecommend\u001b[0;34m(self, userid, user_items, N, filter_items, recalculate_user)\u001b[0m\n\u001b[1;32m     98\u001b[0m \u001b[0;34m\u001b[0m\u001b[0m\n\u001b[1;32m     99\u001b[0m         \u001b[0;31m# calculate the top N items, removing the users own liked items from the results\u001b[0m\u001b[0;34m\u001b[0m\u001b[0;34m\u001b[0m\u001b[0m\n\u001b[0;32m--> 100\u001b[0;31m         \u001b[0mliked\u001b[0m \u001b[0;34m=\u001b[0m \u001b[0mset\u001b[0m\u001b[0;34m(\u001b[0m\u001b[0muser_items\u001b[0m\u001b[0;34m[\u001b[0m\u001b[0muserid\u001b[0m\u001b[0;34m]\u001b[0m\u001b[0;34m.\u001b[0m\u001b[0mindices\u001b[0m\u001b[0;34m)\u001b[0m\u001b[0;34m\u001b[0m\u001b[0m\n\u001b[0m\u001b[1;32m    101\u001b[0m         \u001b[0mscores\u001b[0m \u001b[0;34m=\u001b[0m \u001b[0mself\u001b[0m\u001b[0;34m.\u001b[0m\u001b[0mitem_factors\u001b[0m\u001b[0;34m.\u001b[0m\u001b[0mdot\u001b[0m\u001b[0;34m(\u001b[0m\u001b[0muser\u001b[0m\u001b[0;34m)\u001b[0m\u001b[0;34m\u001b[0m\u001b[0m\n\u001b[1;32m    102\u001b[0m         \u001b[0;32mif\u001b[0m \u001b[0mfilter_items\u001b[0m\u001b[0;34m:\u001b[0m\u001b[0;34m\u001b[0m\u001b[0m\n",
      "\u001b[0;31mAttributeError\u001b[0m: 'int' object has no attribute 'indices'"
     ]
    }
   ],
   "source": [
    "model.recommend(0, sp.csr_matrix())"
   ]
  },
  {
   "cell_type": "code",
   "execution_count": null,
   "metadata": {},
   "outputs": [],
   "source": []
  }
 ],
 "metadata": {
  "kernelspec": {
   "display_name": "Python 3",
   "language": "python",
   "name": "python3"
  },
  "language_info": {
   "codemirror_mode": {
    "name": "ipython",
    "version": 3
   },
   "file_extension": ".py",
   "mimetype": "text/x-python",
   "name": "python",
   "nbconvert_exporter": "python",
   "pygments_lexer": "ipython3",
   "version": "3.6.3"
  }
 },
 "nbformat": 4,
 "nbformat_minor": 2
}
