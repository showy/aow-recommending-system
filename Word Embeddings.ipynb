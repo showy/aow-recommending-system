{
 "cells": [
  {
   "cell_type": "code",
   "execution_count": 1,
   "metadata": {
    "collapsed": true
   },
   "outputs": [],
   "source": [
    "import org.apache.spark.mllib.feature.{Word2Vec, Word2VecModel}\n"
   ]
  },
  {
   "cell_type": "code",
   "execution_count": 2,
   "metadata": {},
   "outputs": [
    {
     "data": {
      "text/plain": [
       "workingDir = /home/showy/data_science/word_embedding_spark/\n"
      ]
     },
     "metadata": {},
     "output_type": "display_data"
    },
    {
     "data": {
      "text/plain": [
       "/home/showy/data_science/word_embedding_spark/"
      ]
     },
     "execution_count": 2,
     "metadata": {},
     "output_type": "execute_result"
    }
   ],
   "source": [
    "val workingDir = \"/home/showy/data_science/word_embedding_spark/\""
   ]
  },
  {
   "cell_type": "code",
   "execution_count": 10,
   "metadata": {},
   "outputs": [
    {
     "data": {
      "text/plain": [
       "textFile = /home/showy/data_science/word_embedding_spark/morman13.txt\n",
       "modelFile = /home/showy/data_science/word_embedding_spark/saved_model\n"
      ]
     },
     "metadata": {},
     "output_type": "display_data"
    },
    {
     "data": {
      "text/plain": [
       "/home/showy/data_science/word_embedding_spark/saved_model"
      ]
     },
     "execution_count": 10,
     "metadata": {},
     "output_type": "execute_result"
    }
   ],
   "source": [
    "val textFile = s\"${workingDir}morman13.txt\"\n",
    "val modelFile = s\"${workingDir}saved_model\""
   ]
  },
  {
   "cell_type": "code",
   "execution_count": 4,
   "metadata": {},
   "outputs": [
    {
     "data": {
      "text/plain": [
       "input = MapPartitionsRDD[2] at map at <console>:32\n"
      ]
     },
     "metadata": {},
     "output_type": "display_data"
    },
    {
     "data": {
      "text/plain": [
       "MapPartitionsRDD[2] at map at <console>:32"
      ]
     },
     "execution_count": 4,
     "metadata": {},
     "output_type": "execute_result"
    }
   ],
   "source": [
    "val input = sc.textFile(textFile).map(line => line.split(\" \").toSeq)\n"
   ]
  },
  {
   "cell_type": "code",
   "execution_count": 6,
   "metadata": {},
   "outputs": [
    {
     "name": "stdout",
     "output_type": "stream",
     "text": [
      "[Stage 0:=============================>                             (1 + 1) / 2]"
     ]
    },
    {
     "data": {
      "text/plain": [
       "word2vec = org.apache.spark.mllib.feature.Word2Vec@6c6148af\n",
       "model = org.apache.spark.mllib.feature.Word2VecModel@1b4f495b\n"
      ]
     },
     "metadata": {},
     "output_type": "display_data"
    },
    {
     "data": {
      "text/plain": [
       "org.apache.spark.mllib.feature.Word2VecModel@1b4f495b"
      ]
     },
     "execution_count": 6,
     "metadata": {},
     "output_type": "execute_result"
    }
   ],
   "source": [
    "val word2vec = new Word2Vec()\n",
    "\n",
    "val model = word2vec.fit(input)"
   ]
  },
  {
   "cell_type": "code",
   "execution_count": 7,
   "metadata": {},
   "outputs": [
    {
     "data": {
      "text/plain": [
       "synonyms = Array((32,0.851151704788208), (33,0.8450838923454285), (17,0.8346476554870605), (13,0.8345968723297119), (27,0.8260086178779602))\n"
      ]
     },
     "metadata": {},
     "output_type": "display_data"
    },
    {
     "data": {
      "text/plain": [
       "[(32,0.851151704788208), (33,0.8450838923454285), (17,0.8346476554870605), (13,0.8345968723297119), (27,0.8260086178779602)]"
      ]
     },
     "execution_count": 7,
     "metadata": {},
     "output_type": "execute_result"
    }
   ],
   "source": [
    "val synonyms = model.findSynonyms(\"1\", 5)\n"
   ]
  },
  {
   "cell_type": "code",
   "execution_count": 8,
   "metadata": {},
   "outputs": [
    {
     "name": "stdout",
     "output_type": "stream",
     "text": [
      "32 0.851151704788208\n",
      "33 0.8450838923454285\n",
      "17 0.8346476554870605\n",
      "13 0.8345968723297119\n",
      "27 0.8260086178779602\n"
     ]
    }
   ],
   "source": [
    "for((synonym, cosineSimilarity) <- synonyms) {\n",
    "  println(s\"$synonym $cosineSimilarity\")\n",
    "}"
   ]
  },
  {
   "cell_type": "code",
   "execution_count": 11,
   "metadata": {
    "collapsed": true
   },
   "outputs": [],
   "source": [
    "model.save(sc, modelFile)\n"
   ]
  },
  {
   "cell_type": "code",
   "execution_count": 16,
   "metadata": {},
   "outputs": [
    {
     "data": {
      "text/plain": [
       "[0.0016908771, -0.021815324, 0.014333652, -0.05657381, -0.011469626, 0.019457448, -0.0054824017, 0.058652226, -0.016070861, -0.0057409974, 0.0029903739, -6.8610645E-4, 0.014745828, 0.0089100655, 0.018940581, -0.012253579, -0.0029991877, 0.009530859, 0.0076317973, 0.0039582765, -0.026477097, 0.030400578, -0.03087762, -0.039211463, 0.02470401, -0.028358907, -0.0079046525, -0.018210864, -0.018154709, -0.044737227, 0.008360729, 0.007274746, 0.028200831, -0.0061100316, -0.030848319, 0.009144492, -0.020542938, 0.017059244, 0.0072698127, -0.0016336209, -0.03241738, -6.7330606E-5, -0.041929826, -0.0077041932, -0.027697966, 6.0785306E-4, -0.0055833184, 6.363762E-4, -0.0073184334, -0.0039634444, 0.008549991, -1.6985182E-4, 0.012698291, -3.0103646E-4, -0.002838111, 0.014652964, 0.032905918, 0.008824066, -0.015342392, 0.013874931, -0.0011136935, -0.0026131535, 0.0067261322, -0.005596202, -0.002972063, 0.031610966, -0.004342296, 0.015478327, 0.011107127, 0.008670746, -0.013415233, 0.0040024174, -0.00814818, 0.013661508, -0.0010772026, -0.009153525, -0.0042904206, -0.018469991, 0.0053483876, -4.8807822E-5, 0.028883766, 0.015865643, -0.008183956, -0.02061075, 0.02847485, -0.0134337805, -0.03982327, 0.008634399, 0.01304361, 0.01285681, -0.04362046, -0.023040533, -0.0011421652, 0.011726837, -0.03627222, 0.010169644, 0.016374914, -0.03870781, -0.0079601025, 0.011028908]"
      ]
     },
     "execution_count": 16,
     "metadata": {},
     "output_type": "execute_result"
    }
   ],
   "source": [
    "model.getVectors(\"professed\")"
   ]
  },
  {
   "cell_type": "code",
   "execution_count": null,
   "metadata": {
    "collapsed": true
   },
   "outputs": [],
   "source": []
  }
 ],
 "metadata": {
  "kernelspec": {
   "display_name": "Apache Toree - Scala",
   "language": "scala",
   "name": "apache_toree_scala"
  },
  "language_info": {
   "codemirror_mode": "text/x-scala",
   "file_extension": ".scala",
   "mimetype": "text/x-scala",
   "name": "scala",
   "pygments_lexer": "scala",
   "version": "2.11.8"
  }
 },
 "nbformat": 4,
 "nbformat_minor": 2
}
