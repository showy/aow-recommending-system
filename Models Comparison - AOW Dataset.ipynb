{
 "cells": [
  {
   "cell_type": "code",
   "execution_count": 1,
   "metadata": {},
   "outputs": [],
   "source": [
    "import seaborn as sns\n",
    "import numpy as np\n",
    "import pandas as pd\n",
    "import matplotlib.pyplot as plt"
   ]
  },
  {
   "cell_type": "code",
   "execution_count": 2,
   "metadata": {},
   "outputs": [],
   "source": [
    "sns.set_style(\"white\")"
   ]
  },
  {
   "cell_type": "code",
   "execution_count": 3,
   "metadata": {},
   "outputs": [],
   "source": [
    "df = pd.DataFrame(np.array([\n",
    "    [0.0483, 'prec@10', 'BPR Loss'],\n",
    "    [0.0485, 'rec@10', 'BPR Loss'],\n",
    "    [0.715, 'AUC', 'BPR Loss'],\n",
    "    [0.0455, 'prec@10', 'WARP Loss'],\n",
    "    [0.0455, 'rec@10', 'WARP Loss'],\n",
    "    [0.65, 'AUC', 'WARP Loss'],\n",
    "    [0.01345, 'prec@10', 'BPRMF' ],\n",
    "    [0.56, 'AUC', 'BPRMF'],\n",
    "    [0.01345, 'rec@10', 'BPRMF'],\n",
    "    [0.58, 'AUC', 'WRML'],\n",
    "    [0.0418, 'prec@10', 'WRML'],\n",
    "    [0.0418, 'rec@10', 'WRML']\n",
    "]))"
   ]
  },
  {
   "cell_type": "code",
   "execution_count": 4,
   "metadata": {},
   "outputs": [
    {
     "data": {
      "text/html": [
       "<div>\n",
       "<style scoped>\n",
       "    .dataframe tbody tr th:only-of-type {\n",
       "        vertical-align: middle;\n",
       "    }\n",
       "\n",
       "    .dataframe tbody tr th {\n",
       "        vertical-align: top;\n",
       "    }\n",
       "\n",
       "    .dataframe thead th {\n",
       "        text-align: right;\n",
       "    }\n",
       "</style>\n",
       "<table border=\"1\" class=\"dataframe\">\n",
       "  <thead>\n",
       "    <tr style=\"text-align: right;\">\n",
       "      <th></th>\n",
       "      <th>0</th>\n",
       "      <th>1</th>\n",
       "      <th>2</th>\n",
       "    </tr>\n",
       "  </thead>\n",
       "  <tbody>\n",
       "    <tr>\n",
       "      <th>0</th>\n",
       "      <td>0.0483</td>\n",
       "      <td>prec@10</td>\n",
       "      <td>BPR Loss</td>\n",
       "    </tr>\n",
       "    <tr>\n",
       "      <th>1</th>\n",
       "      <td>0.0485</td>\n",
       "      <td>rec@10</td>\n",
       "      <td>BPR Loss</td>\n",
       "    </tr>\n",
       "    <tr>\n",
       "      <th>2</th>\n",
       "      <td>0.715</td>\n",
       "      <td>AUC</td>\n",
       "      <td>BPR Loss</td>\n",
       "    </tr>\n",
       "    <tr>\n",
       "      <th>3</th>\n",
       "      <td>0.0455</td>\n",
       "      <td>prec@10</td>\n",
       "      <td>WARP Loss</td>\n",
       "    </tr>\n",
       "    <tr>\n",
       "      <th>4</th>\n",
       "      <td>0.0455</td>\n",
       "      <td>rec@10</td>\n",
       "      <td>WARP Loss</td>\n",
       "    </tr>\n",
       "    <tr>\n",
       "      <th>5</th>\n",
       "      <td>0.65</td>\n",
       "      <td>AUC</td>\n",
       "      <td>WARP Loss</td>\n",
       "    </tr>\n",
       "    <tr>\n",
       "      <th>6</th>\n",
       "      <td>0.01345</td>\n",
       "      <td>prec@10</td>\n",
       "      <td>BPRMF</td>\n",
       "    </tr>\n",
       "    <tr>\n",
       "      <th>7</th>\n",
       "      <td>0.56</td>\n",
       "      <td>AUC</td>\n",
       "      <td>BPRMF</td>\n",
       "    </tr>\n",
       "    <tr>\n",
       "      <th>8</th>\n",
       "      <td>0.01345</td>\n",
       "      <td>rec@10</td>\n",
       "      <td>BPRMF</td>\n",
       "    </tr>\n",
       "    <tr>\n",
       "      <th>9</th>\n",
       "      <td>0.58</td>\n",
       "      <td>AUC</td>\n",
       "      <td>WRML</td>\n",
       "    </tr>\n",
       "    <tr>\n",
       "      <th>10</th>\n",
       "      <td>0.0418</td>\n",
       "      <td>prec@10</td>\n",
       "      <td>WRML</td>\n",
       "    </tr>\n",
       "    <tr>\n",
       "      <th>11</th>\n",
       "      <td>0.0418</td>\n",
       "      <td>rec@10</td>\n",
       "      <td>WRML</td>\n",
       "    </tr>\n",
       "  </tbody>\n",
       "</table>\n",
       "</div>"
      ],
      "text/plain": [
       "          0        1          2\n",
       "0    0.0483  prec@10   BPR Loss\n",
       "1    0.0485   rec@10   BPR Loss\n",
       "2     0.715      AUC   BPR Loss\n",
       "3    0.0455  prec@10  WARP Loss\n",
       "4    0.0455   rec@10  WARP Loss\n",
       "5      0.65      AUC  WARP Loss\n",
       "6   0.01345  prec@10      BPRMF\n",
       "7      0.56      AUC      BPRMF\n",
       "8   0.01345   rec@10      BPRMF\n",
       "9      0.58      AUC       WRML\n",
       "10   0.0418  prec@10       WRML\n",
       "11   0.0418   rec@10       WRML"
      ]
     },
     "execution_count": 4,
     "metadata": {},
     "output_type": "execute_result"
    }
   ],
   "source": [
    "df"
   ]
  },
  {
   "cell_type": "code",
   "execution_count": 5,
   "metadata": {},
   "outputs": [],
   "source": [
    "df.columns = [ 'perc', 'metric', 'model' ]"
   ]
  },
  {
   "cell_type": "code",
   "execution_count": 10,
   "metadata": {},
   "outputs": [],
   "source": [
    "df['perc'] = df['perc'].astype('float32')\n",
    "df['metric'] = df['metric'].astype('category')\n",
    "df['model'] = df['model'].astype('category')"
   ]
  },
  {
   "cell_type": "code",
   "execution_count": 11,
   "metadata": {},
   "outputs": [
    {
     "data": {
      "text/plain": [
       "Text(0.5,17.2,'Modèles')"
      ]
     },
     "execution_count": 11,
     "metadata": {},
     "output_type": "execute_result"
    }
   ],
   "source": []
  },
  {
   "cell_type": "code",
   "execution_count": 13,
   "metadata": {},
   "outputs": [
    {
     "data": {
      "text/plain": [
       "Text(0.5,0,'Modèles')"
      ]
     },
     "execution_count": 13,
     "metadata": {},
     "output_type": "execute_result"
    },
    {
     "data": {
      "image/png": "[encoded data removed]",
      "text/plain": [
       "<matplotlib.figure.Figure at 0x7f8508cc20b8>"
      ]
     },
     "metadata": {},
     "output_type": "display_data"
    }
   ],
   "source": [
    "p = sns.barplot(data=df, x=\"model\", y=\"perc\", hue=\"metric\")\n",
    "p.set_title(\"Modèles de machine learning - AOW Dataset\")\n",
    "p.set_ylabel(\"Précision\")\n",
    "p.set_xlabel(\"Modèles\")"
   ]
  },
  {
   "cell_type": "code",
   "execution_count": 8,
   "metadata": {},
   "outputs": [
    {
     "data": {
      "text/plain": [
       "Text(0.5,17.2,'Modèles')"
      ]
     },
     "execution_count": 8,
     "metadata": {},
     "output_type": "execute_result"
    }
   ],
   "source": []
  },
  {
   "cell_type": "code",
   "execution_count": 9,
   "metadata": {},
   "outputs": [],
   "source": [
    "plt.show()"
   ]
  },
  {
   "cell_type": "code",
   "execution_count": null,
   "metadata": {
    "collapsed": true
   },
   "outputs": [],
   "source": []
  },
  {
   "cell_type": "code",
   "execution_count": null,
   "metadata": {
    "collapsed": true
   },
   "outputs": [],
   "source": []
  }
 ],
 "metadata": {
  "kernelspec": {
   "display_name": "Python 3",
   "language": "python",
   "name": "python3"
  },
  "language_info": {
   "codemirror_mode": {
    "name": "ipython",
    "version": 3
   },
   "file_extension": ".py",
   "mimetype": "text/x-python",
   "name": "python",
   "nbconvert_exporter": "python",
   "pygments_lexer": "ipython3",
   "version": "3.6.3"
  }
 },
 "nbformat": 4,
 "nbformat_minor": 2
}
